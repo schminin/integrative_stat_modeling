{
 "cells": [
  {
   "cell_type": "code",
   "execution_count": null,
   "id": "0d0ed90a-121e-4003-8e05-c15ef9beff52",
   "metadata": {},
   "outputs": [],
   "source": [
    "using Pkg\n",
    "const NOTEBOOKS_ROOT = @__DIR__\n",
    "Pkg.activate(NOTEBOOKS_ROOT)\n",
    "include(joinpath(NOTEBOOKS_ROOT, \"init_python.jl\"))\n",
    "using Revise"
   ]
  },
  {
   "cell_type": "markdown",
   "id": "7e9625bb-ff98-4b89-8667-db9676769a0f",
   "metadata": {},
   "source": [
    "### Discrete Cox model (python)"
   ]
  },
  {
   "cell_type": "code",
   "execution_count": null,
   "id": "baa9d804-e59b-49d7-8f96-6978fbed0539",
   "metadata": {},
   "outputs": [],
   "source": [
    "py\"\"\"\n",
    "import numpy as np\n",
    "import particles\n",
    "from particles import state_space_models\n",
    "\n",
    "class DiscreteCox_with_addf(state_space_models.DiscreteCox):\n",
    "    def upper_bound_log_pt(self, t):\n",
    "        return -0.5 * np.log(2 * np.pi) - np.log(self.sigma)\n",
    "    def add_func(self, t, xp, x):\n",
    "        if t == 0:\n",
    "            return -0.5 / self.sigma ** 2 + \\\n",
    "                   (0.5 * (1. - self.phi ** 2) / self.sigma ** 4) * (x - self.mu) ** 2\n",
    "        else:\n",
    "            return -0.5 / self.sigma ** 2 + (0.5 / self.sigma ** 4) * \\\n",
    "                   ((x - self.mu) - self.phi * (xp - self.mu)) ** 2\n",
    "\"\"\""
   ]
  },
  {
   "cell_type": "code",
   "execution_count": null,
   "id": "88d28b87-6530-4e29-a80e-58c489101016",
   "metadata": {},
   "outputs": [],
   "source": [
    "ssm_py = py\"DiscreteCox_with_addf()\";"
   ]
  },
  {
   "cell_type": "markdown",
   "id": "6080aa3b-082f-4c44-92ed-c963da3eb51f",
   "metadata": {},
   "source": [
    "### Discrete Cox model (julia)"
   ]
  },
  {
   "cell_type": "code",
   "execution_count": null,
   "id": "657c289d-0928-4d23-8d7e-7733f5988368",
   "metadata": {},
   "outputs": [],
   "source": [
    "using Distributions\n",
    "using Particles\n",
    "using PlotlyJS\n",
    "\n",
    "struct DiscreteCox <: StateSpaceModel{Float64, Int}\n",
    "    mu::Float64\n",
    "    sigma::Float64\n",
    "    phi::Float64\n",
    "end\n",
    "DiscreteCox(; mu=0.0, sigma=1.0, phi=0.95) = DiscreteCox(mu, sigma, phi)\n",
    "Particles.ssm_PX0(ssm::DiscreteCox, ::Nothing) = Normal(ssm.mu, ssm.sigma / sqrt((1 - ssm.phi) * (1 + ssm.phi)))\n",
    "Particles.ssm_PX(ssm::DiscreteCox, ::Nothing, t::Integer, xp::Real) = Normal(muladd(ssm.phi, xp - ssm.mu, ssm.mu), ssm.sigma)\n",
    "Particles.ssm_PY(ssm::DiscreteCox, ::Nothing, t::Integer, x::Real) = Poisson(exp(x))\n",
    "Particles.ssm_sup_logpdf_PX(ssm::DiscreteCox, ::Nothing, t::Integer, x::Real) = -log(ssm.sigma) - log(2*pi)/2 # if phi ≤ 1\n",
    "\n",
    "\"\"\"\n",
    "    ImmutableScore\n",
    "score of the model (gradient of log-likelihood at theta=theta_0)\n",
    "\"\"\"\n",
    "struct ImmutableScore <: Particles.ImmutableAdditiveFunction end\n",
    "function (::ImmutableScore)(bf::BootstrapFilter{Float64, Int, DiscreteCox}, ::Nothing, x, ::Nothing)::Float64\n",
    "    ssm = bf.ssm\n",
    "    return ((1 - ssm.phi) * (1 + ssm.phi) / (2 * ssm.sigma^4)) * (x - ssm.mu)^2 - ssm.sigma^2 / 2\n",
    "end\n",
    "function (::ImmutableScore)(bf::BootstrapFilter{Float64, Int, DiscreteCox}, ::Nothing, t::Integer, xp, x, ::Nothing)::Float64\n",
    "    ssm = bf.ssm\n",
    "    return muladd(ssm.phi, xp - ssm.mu, ssm.mu - x)^2 / (2 * ssm.sigma^4) - ssm.sigma^2 / 2\n",
    "end\n",
    "Particles.return_type(::ImmutableScore, ::BootstrapFilter{Float64, Int, DiscreteCox}) = Float64\n",
    "\n",
    "struct MutableScore <: Particles.ArrayAdditiveFunction end\n",
    "Base.@propagate_inbounds function (::MutableScore)(out::AbstractVector, bf::BootstrapFilter{Float64, Int, DiscreteCox}, ::Nothing, x, ::Nothing)\n",
    "    ssm = bf.ssm\n",
    "    out[1] = ((1 - ssm.phi) * (1 + ssm.phi) / (2 * ssm.sigma^4)) * (x - ssm.mu)^2 - ssm.sigma^2 / 2\n",
    "    return out\n",
    "end\n",
    "Base.@propagate_inbounds function (::MutableScore)(out::AbstractVector, bf::BootstrapFilter{Float64, Int, DiscreteCox}, ::Nothing, t::Integer, xp, x, ::Nothing)\n",
    "    ssm = bf.ssm\n",
    "    out[1] = muladd(ssm.phi, xp - ssm.mu, ssm.mu - x)^2 / (2 * ssm.sigma^4) - ssm.sigma^2 / 2\n",
    "    return out\n",
    "end\n",
    "Particles.template_maker(::MutableScore, ::BootstrapFilter{Float64, Int, DiscreteCox}) = () -> Vector{Float64}(undef, 1)\n",
    "Particles.return_type(::MutableScore, ::BootstrapFilter{Float64, Int, DiscreteCox}) = Vector{Float64}"
   ]
  },
  {
   "cell_type": "code",
   "execution_count": null,
   "id": "8b9c4ddd-775f-4832-8e93-b344452c455b",
   "metadata": {},
   "outputs": [],
   "source": [
    "ssm_jl = DiscreteCox()"
   ]
  },
  {
   "cell_type": "markdown",
   "id": "b49dc312-ac21-4e32-906e-692d95909b40",
   "metadata": {},
   "source": [
    "### Simulate data"
   ]
  },
  {
   "cell_type": "code",
   "execution_count": null,
   "id": "315d9bd4-7770-4dc5-a2c9-6c9b4987e6fc",
   "metadata": {},
   "outputs": [],
   "source": [
    "# T = 100\n",
    "# xtrue_py, data_py = ssm_py.simulate(T)\n",
    "# xtrue, data = first.(xtrue_py), first.(data_py)"
   ]
  },
  {
   "cell_type": "code",
   "execution_count": null,
   "id": "8d14c3e9-3acd-4613-94ee-1cb94bfc5c80",
   "metadata": {},
   "outputs": [],
   "source": [
    "T = 100\n",
    "xtrue, data = [2.4021265350056944, 1.681624508654635, 2.3916947359876395, 4.77788647209322, 2.817148421953582, 3.4693282990887497, 3.2924510794624573, 5.011681413526453, 7.190454976294111, 6.967928865313658, 6.102722306108012, 4.487636893855688, 3.703846197361809, 3.7468282413507787, 2.8988502482381753, 2.5257424292420287, 1.3329589939737236, 0.8693102565291805, 2.711898711746743, 3.4232838880367797, 3.2453131166199407, 2.331887449217647, 3.3700451288125493, 4.252488078154874, 2.4038348942332135, 2.261371117945066, 2.9478443945807964, 2.682914704873883, 1.3585135164014874, 1.3926437420156972, -0.20822765483888794, -0.2658680311238287, 0.07618351356071174, 2.1709769773058425, 2.742357879584931, 2.628257920122673, 3.183596799522256, 2.0409879872348107, -0.03713106151521539, -0.5805168512529257, -0.6194246449677187, 1.3123945516084254, 0.970109940654305, 0.8950591383004288, 0.10543607139233557, 0.35279437922984114, -0.3491891121737035, -2.016274098243435, -1.1083793648677271, -0.4117322280012812, -0.5118909120660742, 1.1099251920213644, 1.2851962828014611, 1.5377462404247215, 0.057517125953026715, 0.5130136355717464, 0.9159240740327812, 1.6531357064720393, 1.748726382153127, 2.355084014692249, 1.9546883298793616, 2.271199044211417, 2.5570104439531662, 1.9408311991694989, 0.4747386323002716, -0.3847378120076566, 0.09586345989864509, -1.788164232258839, 0.19845446961195812, 0.7032762459314381, 0.581864986690299, 1.6669135895956826, 1.8116436386236507, 0.6530231531931909, 0.6795396754452527, 2.3592872304719084, 3.2559674377841263, 3.403227474923672, 4.130354333847429, 5.465074809642444, 5.477761488716303, 5.6612352411497096, 6.309660800274545, 7.688024615871875, 8.59400161729781, 8.25763747662676, 8.35246885224497, 7.692127177332258, 8.601585504922028, 8.408117815341656, 7.008772701254552, 7.340153378498685, 8.115159339115328, 7.958472562194978, 7.819763909587895, 8.003961033420545, 6.748063926944804, 6.804687618088711, 7.218016132369026, 7.441399002392016], [11, 7, 11, 119, 31, 28, 29, 133, 1311, 1017, 465, 91, 35, 34, 19, 12, 4, 3, 11, 25, 20, 13, 29, 64, 9, 6, 22, 19, 1, 3, 1, 0, 3, 14, 13, 13, 27, 7, 0, 0, 1, 5, 3, 4, 0, 2, 1, 0, 0, 3, 0, 3, 3, 3, 1, 4, 0, 2, 2, 11, 4, 13, 15, 5, 2, 1, 0, 0, 2, 1, 3, 5, 5, 2, 2, 8, 26, 39, 73, 221, 270, 300, 540, 2247, 5357, 3947, 4223, 2157, 5441, 4425, 1121, 1525, 3343, 2922, 2446, 2998, 868, 952, 1340, 1662];"
   ]
  },
  {
   "cell_type": "code",
   "execution_count": null,
   "id": "4d444439-80f5-48c4-8ea3-d6f35928163a",
   "metadata": {},
   "outputs": [],
   "source": [
    "plot([\n",
    "    scatter(x=1:T, y=xtrue, mode=\"markers\", name=\"state\"),\n",
    "    scatter(x=1:T, y=log.(Float64.(data)), mode=\"markers\", name=\"observation\"),\n",
    "])"
   ]
  },
  {
   "cell_type": "markdown",
   "id": "4d5e4732-b07d-4d4f-a39b-f74e059968a4",
   "metadata": {
    "tags": []
   },
   "source": [
    "### Compute the score (python)"
   ]
  },
  {
   "cell_type": "code",
   "execution_count": null,
   "id": "b9824d38-6edf-4750-ab55-c1480000d25f",
   "metadata": {},
   "outputs": [],
   "source": [
    "function lowercase1(s)\n",
    "    return lowercase(s[1]) * s[2:end]\n",
    "end\n",
    "function compute_score(ssm::PyObject, data::Vector{Int}, method::Particles.AfsMethod; nparticles::Integer, nruns::Integer)\n",
    "    particles = pyimport(\"particles\")\n",
    "    state_space_models = pyimport(\"particles.state_space_models\")\n",
    "    collectors = pyimport(\"particles.collectors\")\n",
    "    bf = state_space_models.Bootstrap(ssm=ssm, data=data)\n",
    "    collector = if isa(method, ON2AfsMethod)\n",
    "        collectors.Online_smooth_ON2()\n",
    "    elseif isa(method, NaiveAfsMethod)\n",
    "        collectors.Online_smooth_naive()\n",
    "    elseif isa(method, Particles.ParisAfsMethod)\n",
    "        collectors.Paris(Nparis=method.n)\n",
    "    else\n",
    "        error(\"method = $method\")\n",
    "    end\n",
    "    runs = particles.multiSMC(\n",
    "        fk=bf, N=nparticles, collect=[collector], nruns=nruns, nprocs=0\n",
    "    )\n",
    "    cname = Symbol(lowercase1(collector.__class__.__name__))\n",
    "    return hcat((getproperty(run[\"output\"].summaries, cname) for run in runs)...)\n",
    "end"
   ]
  },
  {
   "cell_type": "code",
   "execution_count": null,
   "id": "765f7ac2-4cf1-4335-a41b-a0099e1427c1",
   "metadata": {},
   "outputs": [],
   "source": [
    "scores_py = compute_score(ssm_py, data, ON2AfsMethod(); nparticles=10, nruns=5);"
   ]
  },
  {
   "cell_type": "markdown",
   "id": "ac2a97bd-0d14-4d52-bc00-d2d67dbd8b55",
   "metadata": {},
   "source": [
    "### Compute the score (julia)"
   ]
  },
  {
   "cell_type": "code",
   "execution_count": null,
   "id": "aee1cdb9-4ce8-4fef-b898-aabc8a758325",
   "metadata": {},
   "outputs": [],
   "source": [
    "include(\"additive_smoothing_utils.jl\")\n",
    "function compute_score(ssm::StateSpaceModel, data::Vector{Int}, method::Particles.AfsMethod, addfun=ImmutableScore(); kwargs...)\n",
    "    return first.(compute_addfun(ssm, data, addfun, method; kwargs...))\n",
    "    # first is to transform the mutable scores to scalars\n",
    "end"
   ]
  },
  {
   "cell_type": "code",
   "execution_count": null,
   "id": "167befc7-d9ad-47c5-9d5a-06db0b70e33b",
   "metadata": {},
   "outputs": [],
   "source": [
    "@time scores_jl = compute_score(ssm_jl, data, NaiveAfsMethod(); nparticles=1000, nruns=1);"
   ]
  },
  {
   "cell_type": "code",
   "execution_count": null,
   "id": "1d750138-7531-43b5-9e76-e893080f3905",
   "metadata": {},
   "outputs": [],
   "source": [
    "@time scores_jl = compute_score(ssm_jl, data, ON2AfsMethod(); nparticles=1000, nruns=1);"
   ]
  },
  {
   "cell_type": "code",
   "execution_count": null,
   "id": "e5aeff19-9d29-490c-9929-81fb08fb2d51",
   "metadata": {},
   "outputs": [],
   "source": [
    "# @time scores_jl = compute_score(ssm_jl, data, Particles.ParisAfsMethod(); nparticles=10, nruns=1);"
   ]
  },
  {
   "cell_type": "code",
   "execution_count": null,
   "id": "eea87db8-1d8e-4974-b0da-caae197c3a13",
   "metadata": {},
   "outputs": [],
   "source": [
    "@time scores_jl = compute_score(ssm_jl, data, AdaSmooth(0.5; use_rejection=false); nparticles=1000, nruns=1);"
   ]
  },
  {
   "cell_type": "code",
   "execution_count": null,
   "id": "2f409b61-74f6-4bbf-a76f-5dc4e51df7f5",
   "metadata": {},
   "outputs": [],
   "source": [
    "@time scores_jl = compute_score(ssm_jl, data, AdaSmooth(0.5; use_rejection=true); nparticles=1000, nruns=1);"
   ]
  },
  {
   "cell_type": "code",
   "execution_count": null,
   "id": "2b02ac27-027d-4f93-87a1-94d502f84847",
   "metadata": {},
   "outputs": [],
   "source": [
    "@time scores_jl = compute_score(ssm_jl, data, NaiveAfsMethod(), MutableScore(); nparticles=1000, nruns=1);"
   ]
  },
  {
   "cell_type": "code",
   "execution_count": null,
   "id": "0f8b945b-69ae-4b5c-8f41-e80d3d14efa0",
   "metadata": {},
   "outputs": [],
   "source": [
    "@time scores_jl = compute_score(ssm_jl, data, ON2AfsMethod(), MutableScore(); nparticles=1000, nruns=1);"
   ]
  },
  {
   "cell_type": "code",
   "execution_count": null,
   "id": "cc659959-7d50-46e8-8466-d35bf89d93d7",
   "metadata": {},
   "outputs": [],
   "source": [
    "# @time scores_jl = compute_score(ssm_jl, data, Particles.ParisAfsMethod(), MutableScore(); nparticles=10, nruns=1);"
   ]
  },
  {
   "cell_type": "code",
   "execution_count": null,
   "id": "b52df8e0-f582-4114-a021-1c3c21284118",
   "metadata": {},
   "outputs": [],
   "source": [
    "@time scores_jl = compute_score(ssm_jl, data, AdaSmooth(0.5; use_rejection=false), MutableScore(); nparticles=1000, nruns=1);"
   ]
  },
  {
   "cell_type": "code",
   "execution_count": null,
   "id": "74413e1e-2e0b-4441-b151-4802d0f9a8cb",
   "metadata": {},
   "outputs": [],
   "source": [
    "@time scores_jl = compute_score(ssm_jl, data, AdaSmooth(0.5; use_rejection=true), MutableScore(); nparticles=1000, nruns=1);"
   ]
  },
  {
   "cell_type": "markdown",
   "id": "244c65d5-013f-455f-9dc2-3069eaa565c7",
   "metadata": {},
   "source": [
    "### Compare python and julia"
   ]
  },
  {
   "cell_type": "code",
   "execution_count": null,
   "id": "da634f56-d468-4b65-b0e4-fc641acb1ffd",
   "metadata": {},
   "outputs": [],
   "source": [
    "include(\"violin.jl\")\n",
    "function compare_score(ssm_jl::StateSpaceModel, ssm_py::PyObject, data::Vector{Int}, method::Particles.AfsMethod; nparticles::Integer, nruns::Integer, plotstep::Integer=5)\n",
    "    scores_jl = compute_score(ssm_jl, data, method; nparticles, nruns)\n",
    "    scores_py = compute_score(ssm_py, data, method; nparticles, nruns)\n",
    "    return violinplot(scores_jl, \"Julia\", scores_py, \"Python\"; plotstep)\n",
    "end"
   ]
  },
  {
   "cell_type": "code",
   "execution_count": null,
   "id": "1c6db672-9d92-454e-a02b-53596a723470",
   "metadata": {},
   "outputs": [],
   "source": [
    "@time compare_score(ssm_jl, ssm_py, data, NaiveAfsMethod(); nparticles=10_000, nruns=250, plotstep=10)"
   ]
  },
  {
   "cell_type": "code",
   "execution_count": null,
   "id": "570ad519-dad1-4d0c-b1bf-b38be652609e",
   "metadata": {},
   "outputs": [],
   "source": [
    "@time compare_score(ssm_jl, ssm_py, data, ON2AfsMethod(); nparticles=1_000, nruns=250, plotstep=10)"
   ]
  },
  {
   "cell_type": "code",
   "execution_count": null,
   "id": "710ed9f2-6c36-4519-afae-883ca42ecd16",
   "metadata": {},
   "outputs": [],
   "source": [
    "# @time compare_score(ssm_jl, ssm_py, data, ParisAfsMethod(); nparticles=100, nruns=25, plotstep=10)"
   ]
  },
  {
   "cell_type": "markdown",
   "id": "76f3b1de-1964-49bb-8de3-d7dcd4f10b76",
   "metadata": {},
   "source": [
    "### Compare mutable and immutable"
   ]
  },
  {
   "cell_type": "code",
   "execution_count": null,
   "id": "1d47ec0c-f619-40e1-940b-d8c1113be6c5",
   "metadata": {},
   "outputs": [],
   "source": [
    "function compare_score(ssm::StateSpaceModel, data::Vector{Int}, method::Particles.AfsMethod; nparticles::Integer, nruns::Integer, plotstep::Integer=5)\n",
    "    scores_imm = compute_score(ssm, data, method, MutableScore(); nparticles, nruns)\n",
    "    scores_mut = compute_score(ssm, data, method, ImmutableScore(); nparticles, nruns)\n",
    "    return violinplot(scores_imm, \"immutable\", scores_mut, \"mutable\"; plotstep)\n",
    "end"
   ]
  },
  {
   "cell_type": "code",
   "execution_count": null,
   "id": "ce9116a8-f649-4c00-b35e-70c4f8f11a5e",
   "metadata": {},
   "outputs": [],
   "source": [
    "@time compare_score(ssm_jl, data, NaiveAfsMethod(); nparticles=10_000, nruns=500, plotstep=10)"
   ]
  },
  {
   "cell_type": "code",
   "execution_count": null,
   "id": "86ea2cde-45f9-4578-baba-1c0dacb47480",
   "metadata": {},
   "outputs": [],
   "source": [
    "@time compare_score(ssm_jl, data, ON2AfsMethod(); nparticles=1_000, nruns=500, plotstep=10)"
   ]
  },
  {
   "cell_type": "code",
   "execution_count": null,
   "id": "4a5d6bc5-69fa-4ee7-9427-d5e02f8f1f0d",
   "metadata": {},
   "outputs": [],
   "source": [
    "# @time compare_score(ssm_jl, data, Particles.ParisAfsMethod(); nparticles=10, nruns=10, plotstep=10)"
   ]
  },
  {
   "cell_type": "code",
   "execution_count": null,
   "id": "ea8c5ae4-3263-4525-9bdf-b6306ddfc072",
   "metadata": {},
   "outputs": [],
   "source": [
    "@time compare_score(ssm_jl, data, AdaSmooth(0.5; use_rejection=false); nparticles=1_000, nruns=500, plotstep=10)"
   ]
  },
  {
   "cell_type": "code",
   "execution_count": null,
   "id": "28b54757-9b02-422d-9b66-f6729cde30a9",
   "metadata": {},
   "outputs": [],
   "source": [
    "@time compare_score(ssm_jl, data, AdaSmooth(0.5; use_rejection=true); nparticles=1_000, nruns=500, plotstep=10)"
   ]
  }
 ],
 "metadata": {
  "@webio": {
   "lastCommId": "0b04ee7b-bb85-460e-bb5b-05045dc67d7c",
   "lastKernelId": "ea76325a-89a9-488e-baa3-db9597476bfa"
  },
  "kernelspec": {
   "display_name": "Julia (threaded)",
   "language": "julia",
   "name": "julia-threaded"
  },
  "language_info": {
   "file_extension": ".jl",
   "mimetype": "application/julia",
   "name": "julia",
   "version": "1.8.2"
  }
 },
 "nbformat": 4,
 "nbformat_minor": 5
}
