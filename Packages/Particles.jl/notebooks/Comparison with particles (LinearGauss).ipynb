{
 "cells": [
  {
   "cell_type": "code",
   "execution_count": null,
   "id": "09a657c8-6884-41d7-8da0-6113d2e669f7",
   "metadata": {},
   "outputs": [],
   "source": [
    "using Pkg\n",
    "const NOTEBOOKS_ROOT = @__DIR__\n",
    "Pkg.activate(NOTEBOOKS_ROOT)\n",
    "include(joinpath(NOTEBOOKS_ROOT, \"init_python.jl\"))\n",
    "using Revise"
   ]
  },
  {
   "cell_type": "code",
   "execution_count": null,
   "id": "800c4a4e-8303-4cae-81fd-a17042f6e1e2",
   "metadata": {},
   "outputs": [],
   "source": [
    "#Pkg.resolve()\n",
    "#Pkg.update()"
   ]
  },
  {
   "cell_type": "code",
   "execution_count": null,
   "id": "28183440-52c7-4ba1-a0f2-ba89f99c1f40",
   "metadata": {},
   "outputs": [],
   "source": [
    "using Revise\n",
    "using Distributions\n",
    "using Particles\n",
    "using PlotlyJS"
   ]
  },
  {
   "cell_type": "code",
   "execution_count": null,
   "id": "f6882c6f-b0a3-4bc0-aa48-58c7f209894c",
   "metadata": {},
   "outputs": [],
   "source": [
    "const pyparticles = pyimport(\"particles\")\n",
    "const kalman = pyimport(\"particles.kalman\")\n",
    "const np = pyimport(\"numpy\")\n",
    "const Moments = pyparticles.collectors.Moments"
   ]
  },
  {
   "cell_type": "code",
   "execution_count": null,
   "id": "7c065725-1169-4976-b6f2-e21db46e9c92",
   "metadata": {},
   "outputs": [],
   "source": [
    "struct LinearGauss <: StateSpaceModel{Float64, Float64}\n",
    "    rho::Float64\n",
    "    sigmaX::Float64\n",
    "    sigmaY::Float64\n",
    "    sigma0::Float64\n",
    "end\n",
    "LinearGauss(; rho=0.9, sigmaX=1.0, sigmaY=0.2, sigma0=sigmaX/sqrt(1-rho^2)) = LinearGauss(rho, sigmaX, sigmaY, sigma0)\n",
    "Particles.ssm_PX0(ssm::LinearGauss, ::Nothing) = Normal(0.0, ssm.sigma0)\n",
    "Particles.ssm_PX(ssm::LinearGauss, ::Nothing, t::Integer, xp::Real) = Normal(ssm.rho*xp, ssm.sigmaX)\n",
    "Particles.ssm_PY(ssm::LinearGauss, ::Nothing, t::Integer, x::Real) = Normal(x, ssm.sigmaY)\n",
    "#     def proposal0(self, data):\n",
    "#         sig2post = 1. / (1. / self.sigma0**2 + 1. / self.sigmaY**2)\n",
    "#         mupost = sig2post * (data[0] / self.sigmaY**2)\n",
    "#         return dists.Normal(loc=mupost, scale=np.sqrt(sig2post))\n",
    "\n",
    "#     def proposal(self, t, xp, data):\n",
    "#         sig2post = 1. / (1. / self.sigmaX**2 + 1. / self.sigmaY**2)\n",
    "#         mupost = sig2post * (self.rho * xp / self.sigmaX**2\n",
    "#                              + data[t] / self.sigmaY**2)\n",
    "#         return dists.Normal(loc=mupost, scale=np.sqrt(sig2post))\n",
    "\n",
    "#     def logeta(self, t, x, data):\n",
    "#         law = dists.Normal(loc=self.rho * x,\n",
    "#                            scale=np.sqrt(self.sigmaX**2 + self.sigmaY**2))\n",
    "#         return law.logpdf(data[t + 1])"
   ]
  },
  {
   "cell_type": "code",
   "execution_count": null,
   "id": "c7f13bb7-cdcb-4498-83f3-463269cf29f1",
   "metadata": {},
   "outputs": [],
   "source": [
    "ssm_py = kalman.LinearGauss(sigmaX=1., sigmaY=2.0, rho=.9)\n",
    "ssm_jl = LinearGauss(sigmaX=1., sigmaY=2.0, rho=.9)"
   ]
  },
  {
   "cell_type": "code",
   "execution_count": null,
   "id": "dc4c517a-52b1-48e8-90f5-fe47f925c23a",
   "metadata": {},
   "outputs": [],
   "source": [
    "T = 100\n",
    "xtrue_py, data_py = ssm_py.simulate(T)\n",
    "xtrue, data = first.(xtrue_py), first.(data_py)\n",
    "plot([\n",
    "    scatter(x=1:T, y=xtrue, mode=\"markers\", name=\"state\"),\n",
    "    scatter(x=1:T, y=data, mode=\"markers\", name=\"observation\"),\n",
    "])"
   ]
  },
  {
   "cell_type": "code",
   "execution_count": null,
   "id": "f7a729f0-951f-40b5-97a0-1bb61e58cd08",
   "metadata": {},
   "outputs": [],
   "source": [
    "# xtrue, data = rand(ssm_jl, T)\n",
    "# plot([\n",
    "#     scatter(x=1:T, y=xtrue, mode=\"markers\", name=\"state\"),\n",
    "#     scatter(x=1:T, y=data, mode=\"markers\", name=\"observation\"),\n",
    "# ])"
   ]
  },
  {
   "cell_type": "code",
   "execution_count": null,
   "id": "df7f0e51-5fac-4324-b73b-ff4e355698bd",
   "metadata": {},
   "outputs": [],
   "source": [
    "# Compute exact solution using Kalman filter\n",
    "kf = kalman.Kalman(ssm=ssm_py, data=data_py)\n",
    "kf.filter()\n",
    "true_loglik = np.cumsum(kf.logpyt)\n",
    "true_filt_means = [first(f[1]) for f in kf.filt]\n",
    "true_filt_vars = [first(f[2]) for f in kf.filt]\n",
    "nothing"
   ]
  },
  {
   "cell_type": "code",
   "execution_count": null,
   "id": "ec5ba75e-d5bc-451f-bda6-6f5f9f52f6c8",
   "metadata": {},
   "outputs": [],
   "source": [
    "plot([\n",
    "    scatter(x=1:T, y=true_filt_means, mode=\"lines\", line_color=\"black\", name=\"filter mean\"),\n",
    "    scatter(x=1:T, y=true_filt_means.+sqrt.(true_filt_vars), mode=\"lines\", line_color=\"gray\", name=\"filter mean + 1sd\"),\n",
    "    scatter(x=1:T, y=true_filt_means.-sqrt.(true_filt_vars), mode=\"lines\", line_color=\"gray\", name=\"filter mean - 1sd\"),\n",
    "    scatter(x=1:T, y=xtrue, mode=\"markers\", name=\"state\"),\n",
    "    scatter(x=1:T, y=data, mode=\"markers\", name=\"observation\"),\n",
    "])"
   ]
  },
  {
   "cell_type": "code",
   "execution_count": null,
   "id": "6308aadf-bfc8-4b2b-b56e-6904e3d81b35",
   "metadata": {},
   "outputs": [],
   "source": [
    "fk_bf_py = pyparticles.state_space_models.Bootstrap(ssm=ssm_py, data=data_py)\n",
    "# fk_gf_py = pyparticles.state_space_models.GuidedPF(ssm=ssm_py, data=data_py)"
   ]
  },
  {
   "cell_type": "code",
   "execution_count": null,
   "id": "d9347d27-fcbb-4077-8f18-0c76378b9caf",
   "metadata": {},
   "outputs": [],
   "source": [
    "function run_smc_py(fk, N)\n",
    "    f = @pycall pyparticles.SMC(fk=fk, N=N, collect=[Moments], verbose=false, qmc=false, resampling=\"systematic\", ESSrmin=0.5)::PyObject\n",
    "    f.run()\n",
    "    return f\n",
    "end"
   ]
  },
  {
   "cell_type": "code",
   "execution_count": null,
   "id": "2773fe11-8aa0-49d3-9a52-eca85ad8b87e",
   "metadata": {},
   "outputs": [],
   "source": [
    "N = 5000\n",
    "GC.gc()\n",
    "bf_py = @time run_smc_py(fk_bf_py, N)\n",
    "# gf_py = @time run_smc_py(fk_gf_py, N)"
   ]
  },
  {
   "cell_type": "code",
   "execution_count": null,
   "id": "a5e5d11d-b353-4662-847a-d96dce962bbf",
   "metadata": {},
   "outputs": [],
   "source": [
    "bf_py_means = [x[\"mean\"] for x in bf_py.\"summaries\".moments];\n",
    "bf_py_vars = [x[\"var\"] for x in bf_py.\"summaries\".moments];\n",
    "# gf_py_means = [x[\"mean\"] for x in gf_py.\"summaries\".moments];\n",
    "# gf_py_vars = [x[\"var\"] for x in gf_py.\"summaries\".moments];"
   ]
  },
  {
   "cell_type": "code",
   "execution_count": null,
   "id": "5d0772c4-3b38-48bc-95bc-263b2a6c8b37",
   "metadata": {},
   "outputs": [],
   "source": [
    "plot([\n",
    "    scatter(x=1:T, y=true_filt_means, mode=\"lines\", line_color=\"black\", name=\"Kalman filter mean\"),\n",
    "    scatter(x=1:T, y=true_filt_means.+sqrt.(true_filt_vars), mode=\"lines\", line_color=\"gray\", name=\"Kalman filter mean + 1sd\"),\n",
    "    scatter(x=1:T, y=true_filt_means.-sqrt.(true_filt_vars), mode=\"lines\", line_color=\"gray\", name=\"Kalman filter mean - 1sd\"),\n",
    "    scatter(x=1:T, y=bf_py_means, mode=\"lines\", line_color=\"red\", name=\"particle (py) filter mean\"),\n",
    "    scatter(x=1:T, y=bf_py_means.+sqrt.(bf_py_vars), mode=\"lines\", line_color=\"orange\", name=\"particle (py) filter mean + 1sd\"),\n",
    "    scatter(x=1:T, y=bf_py_means.-sqrt.(bf_py_vars), mode=\"lines\", line_color=\"orange\", name=\"particle (py) filter mean - 1sd\"),\n",
    "    scatter(x=1:T, y=xtrue, mode=\"markers\", name=\"state\"),\n",
    "    scatter(x=1:T, y=data, mode=\"markers\", name=\"observation\"),\n",
    "])"
   ]
  },
  {
   "cell_type": "code",
   "execution_count": null,
   "id": "21593390-4e10-42b2-8f47-15e6cf15f2f2",
   "metadata": {},
   "outputs": [],
   "source": [
    "fk_bf_jl = BootstrapFilter(ssm_jl, data)"
   ]
  },
  {
   "cell_type": "code",
   "execution_count": null,
   "id": "73ee3643-cda0-4d0b-88c3-c7a7ce88de4a",
   "metadata": {},
   "outputs": [],
   "source": [
    "function run_smc_jl(fk::FeynmanKacModel{T}, N::Integer) where {T}\n",
    "    f = SMC(\n",
    "        fk, nothing, N,\n",
    "        \n",
    "        ParticleHistoryLength(FullHistory()),\n",
    "        \n",
    "        (mean_and_var=RunningSummary(MeanAndVariance(), FullHistory()), ),\n",
    "        #(mean_and_var=RunningSummary(MeanAndVariance(), StaticFiniteHistory{3}()), ),\n",
    "        #(mean_and_var=MeanAndVariance(), ),\n",
    "        #NamedTuple(),\n",
    "        \n",
    "        AdaptiveResampling(SystematicResampling(), 0.5),\n",
    "    )\n",
    "    offlinefilter!(f)\n",
    "    return f\n",
    "end"
   ]
  },
  {
   "cell_type": "code",
   "execution_count": null,
   "id": "7a22b186-221a-41ca-bca4-67f9b23bc1f6",
   "metadata": {},
   "outputs": [],
   "source": [
    "GC.gc()\n",
    "bf_jl = @time run_smc_jl(fk_bf_jl, N);"
   ]
  },
  {
   "cell_type": "code",
   "execution_count": null,
   "id": "5d883b54-43f4-4425-ab05-621729d1b1dd",
   "metadata": {},
   "outputs": [],
   "source": [
    "using ProfileSVG\n",
    "@profview run_smc_jl(fk_bf_jl, N)"
   ]
  },
  {
   "cell_type": "code",
   "execution_count": null,
   "id": "1059ceea-89c1-4b5c-b95e-6b04def03f9f",
   "metadata": {},
   "outputs": [],
   "source": [
    "# Offline summary computation\n",
    "let step = END-2\n",
    "    offline_value = Particles.compute_summary(bf_jl, OfflineSummary(MeanAndVariance()), step)\n",
    "    if hasproperty(bf_jl.history_run, :mean_and_var)\n",
    "        @assert offline_value == bf_jl.history_run.mean_and_var[step]\n",
    "    end\n",
    "    offline_value\n",
    "end"
   ]
  },
  {
   "cell_type": "code",
   "execution_count": null,
   "id": "8c0524df-daeb-40b5-b73f-a884ce652891",
   "metadata": {},
   "outputs": [],
   "source": [
    "if hasproperty(bf_jl.history_run, :mean_and_var)\n",
    "    bf_jl_means = getproperty.(bf_jl.history_run.mean_and_var, :mean)\n",
    "    bf_jl_vars = getproperty.(bf_jl.history_run.mean_and_var, :var)\n",
    "end;"
   ]
  },
  {
   "cell_type": "code",
   "execution_count": null,
   "id": "db0d4c72-5102-49b6-a631-9b6131720411",
   "metadata": {},
   "outputs": [],
   "source": [
    "if hasproperty(bf_jl.history_run, :mean_and_var)\n",
    "    plot([\n",
    "        scatter(x=1:T, y=true_filt_means, mode=\"lines\", line_color=\"black\", name=\"Kalman filter mean\"),\n",
    "        scatter(x=1:T, y=true_filt_means.+sqrt.(true_filt_vars), mode=\"lines\", line_color=\"gray\", name=\"Kalman filter mean + 1sd\"),\n",
    "        scatter(x=1:T, y=true_filt_means.-sqrt.(true_filt_vars), mode=\"lines\", line_color=\"gray\", name=\"Kalman filter mean - 1sd\"),\n",
    "        scatter(x=(1:T)[end-length(bf_jl_means)+1:end], y=bf_jl_means, mode=\"lines\", line_color=\"red\", name=\"particle (jl) filter mean\"),\n",
    "        scatter(x=(1:T)[end-length(bf_jl_means)+1:end], y=bf_jl_means.+sqrt.(bf_jl_vars), mode=\"lines\", line_color=\"orange\", name=\"particle (jl) filter mean + 1sd\"),\n",
    "        scatter(x=(1:T)[end-length(bf_jl_means)+1:end], y=bf_jl_means.-sqrt.(bf_jl_vars), mode=\"lines\", line_color=\"orange\", name=\"particle (jl) filter mean - 1sd\"),\n",
    "        scatter(x=1:T, y=xtrue, mode=\"markers\", name=\"state\"),\n",
    "        scatter(x=1:T, y=data, mode=\"markers\", name=\"observation\"),\n",
    "    ])\n",
    "end"
   ]
  },
  {
   "cell_type": "code",
   "execution_count": null,
   "id": "d4e325d1-b4b0-4ae0-8f8e-41454afb4f1b",
   "metadata": {},
   "outputs": [],
   "source": [
    "if hasproperty(bf_jl.history_run, :mean_and_var)\n",
    "    plot([\n",
    "        scatter(x=1:T, y=bf_py_means, mode=\"lines\", line_color=\"black\", name=\"particle (py) filter mean\"),\n",
    "        scatter(x=1:T, y=bf_py_means.+sqrt.(bf_py_vars), mode=\"lines\", line_color=\"gray\", name=\"particle (py) filter mean + 1sd\"),\n",
    "        scatter(x=1:T, y=bf_py_means.-sqrt.(bf_py_vars), mode=\"lines\", line_color=\"gray\", name=\"particle (py) filter mean - 1sd\"),\n",
    "        scatter(x=(1:T)[end-length(bf_jl_means)+1:end], y=bf_jl_means, mode=\"lines\", line_color=\"red\", name=\"particle (jl) filter mean\"),\n",
    "        scatter(x=(1:T)[end-length(bf_jl_means)+1:end], y=bf_jl_means.+sqrt.(bf_jl_vars), mode=\"lines\", line_color=\"orange\", name=\"particle (jl) filter mean + 1sd\"),\n",
    "        scatter(x=(1:T)[end-length(bf_jl_means)+1:end], y=bf_jl_means.-sqrt.(bf_jl_vars), mode=\"lines\", line_color=\"orange\", name=\"particle (jl) filter mean - 1sd\"),\n",
    "        scatter(x=1:T, y=xtrue, mode=\"markers\", name=\"state\"),\n",
    "        scatter(x=1:T, y=data, mode=\"markers\", name=\"observation\"),\n",
    "    ])\n",
    "end"
   ]
  }
 ],
 "metadata": {
  "@webio": {
   "lastCommId": "613e255d-9f0a-4c03-abc2-be9c9031a34a",
   "lastKernelId": "ccce4057-6d7d-47c6-8c46-886f0c934e43"
  },
  "kernelspec": {
   "display_name": "Julia (threaded)",
   "language": "julia",
   "name": "julia-threaded"
  },
  "language_info": {
   "file_extension": ".jl",
   "mimetype": "application/julia",
   "name": "julia",
   "version": "1.8.2"
  }
 },
 "nbformat": 4,
 "nbformat_minor": 5
}
