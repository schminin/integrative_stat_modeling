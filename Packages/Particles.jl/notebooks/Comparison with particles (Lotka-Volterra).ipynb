{
 "cells": [
  {
   "cell_type": "code",
   "execution_count": null,
   "id": "09a657c8-6884-41d7-8da0-6113d2e669f7",
   "metadata": {},
   "outputs": [],
   "source": [
    "using Pkg\n",
    "const NOTEBOOKS_ROOT = @__DIR__\n",
    "Pkg.activate(NOTEBOOKS_ROOT)\n",
    "include(joinpath(NOTEBOOKS_ROOT, \"init_python.jl\"))\n",
    "using Revise"
   ]
  },
  {
   "cell_type": "code",
   "execution_count": null,
   "id": "28183440-52c7-4ba1-a0f2-ba89f99c1f40",
   "metadata": {},
   "outputs": [],
   "source": [
    "using Revise\n",
    "using StaticArrays\n",
    "using Distributions\n",
    "using StaticDistributions\n",
    "using Particles\n",
    "using PlotlyJS"
   ]
  },
  {
   "cell_type": "code",
   "execution_count": null,
   "id": "f6882c6f-b0a3-4bc0-aa48-58c7f209894c",
   "metadata": {},
   "outputs": [],
   "source": [
    "const pyparticles = pyimport(\"particles\")\n",
    "const np = pyimport(\"numpy\")\n",
    "const Moments = pyparticles.collectors.Moments"
   ]
  },
  {
   "cell_type": "code",
   "execution_count": null,
   "id": "7c065725-1169-4976-b6f2-e21db46e9c92",
   "metadata": {},
   "outputs": [],
   "source": [
    "struct LotkaVolterra <: StateSpaceModel{SVector{2, Float64}, SVector{2, Float64}}\n",
    "    alpha::Float64\n",
    "    beta::Float64\n",
    "    gamma::Float64\n",
    "    delta::Float64\n",
    "    dt::Float64\n",
    "    nsteps::Int\n",
    "    sigma0::Float64\n",
    "    sigmaX_rel::Float64\n",
    "    sigmaY_rel::Float64\n",
    "    sigmaX_abs::Float64\n",
    "    sigmaY_abs::Float64\n",
    "end\n",
    "LotkaVolterra(; alpha=2/3, beta=4/3, gamma=1, delta=1, sigma0=0.1, sigmaX_rel=0.1, sigmaY_rel=2.0, sigmaX_abs=0.01, sigmaY_abs=0.1, dt=0.05, dt_obs=0.5) = LotkaVolterra(alpha, beta, gamma, delta, dt, cld(dt_obs, dt), sigma0, sigmaX_rel, sigmaY_rel, sigmaX_abs, sigmaY_abs)\n",
    "Particles.ssm_PX0(ssm::LotkaVolterra, ::Nothing) = SimpleContinousSMultivariateSampleable{2, Float64}(rng -> begin\n",
    "    prey0 = ssm.alpha / ssm.beta\n",
    "    predator0 = ssm.gamma / ssm.delta\n",
    "    return SVector{2, Float64}(\n",
    "        rand(rng, TruncatedNormal(prey0, ssm.sigma0 * prey0, 0, Inf64)),\n",
    "        rand(rng, TruncatedNormal(predator0, ssm.sigma0 * predator0, 0, Inf64)),\n",
    "    )\n",
    "end)\n",
    "function rand_transition(rng, ssm::LotkaVolterra, xp::SVector{2})\n",
    "    prey, predator = xp\n",
    "    new_prey = max(0.0, prey + ssm.dt * (ssm.alpha * prey - ssm.beta * prey * predator))\n",
    "    new_predator = max(0.0, predator + ssm.dt * (ssm.delta * prey * predator - ssm.gamma * predator))\n",
    "    return SVector{2, Float64}(\n",
    "        rand(rng, TruncatedNormal(new_prey, sqrt(ssm.dt) * sqrt(ssm.sigmaX_abs + ssm.sigmaX_rel * new_prey), 0, Inf64)),\n",
    "        rand(rng, TruncatedNormal(new_predator, sqrt(ssm.dt) * sqrt(ssm.sigmaX_abs + ssm.sigmaX_rel * new_predator), 0, Inf64)),\n",
    "    )\n",
    "end\n",
    "Particles.ssm_PX(ssm::LotkaVolterra, ::Nothing, t::Integer, xp::SVector{2}) = SimpleContinousSMultivariateSampleable{2, Float64}(rng -> begin\n",
    "    for i in 1:ssm.nsteps\n",
    "        xp = rand_transition(rng, ssm, xp)\n",
    "    end\n",
    "    return xp\n",
    "end)\n",
    "function Particles.ssm_PY(ssm::LotkaVolterra, ::Nothing, t::Integer, x::SVector{2})\n",
    "    prey, predator = x\n",
    "    return SIndependent(\n",
    "        TruncatedNormal(prey, sqrt(ssm.sigmaY_abs + ssm.sigmaY_rel * prey), 0, Inf64),\n",
    "        TruncatedNormal(predator, sqrt(ssm.sigmaY_abs + ssm.sigmaY_rel * predator), 0, Inf64),\n",
    "    )\n",
    "end"
   ]
  },
  {
   "cell_type": "code",
   "execution_count": null,
   "id": "c46bc370-ea40-416b-b5e6-04e773f45354",
   "metadata": {},
   "outputs": [],
   "source": [
    "py\"\"\"\n",
    "import particles\n",
    "from particles import distributions as dists\n",
    "\n",
    "class MultipleSteps(dists.ProbDist):\n",
    "    def __init__(self, onestep, xp, nsteps):\n",
    "        assert nsteps >= 1\n",
    "        super().__init__()\n",
    "        self.onestep = onestep\n",
    "        self.xp = xp\n",
    "        self.nsteps = nsteps\n",
    "        self.dtype = onestep(xp).dtype\n",
    "    def rvs(self, size=None):\n",
    "        d = self.onestep(self.xp)\n",
    "        names = list(d.laws.keys())\n",
    "        x = d.rvs(size=size)\n",
    "        assert len(x.flat[0]) == len(names)\n",
    "        for _ in range(self.nsteps-1):\n",
    "            for i in np.ndindex(x.shape):\n",
    "                xp = {name: value for (name, value) in zip(names, x[i])}\n",
    "                x[i] = self.onestep(xp).rvs(size=None).flat[0]\n",
    "        return x\n",
    "\"\"\""
   ]
  },
  {
   "cell_type": "code",
   "execution_count": null,
   "id": "02837135-bc58-4c30-a2e8-0a8db006cda8",
   "metadata": {},
   "outputs": [],
   "source": [
    "py\"\"\"\n",
    "import numpy as np\n",
    "import particles\n",
    "from particles import distributions as dists\n",
    "from particles import state_space_models as ssm\n",
    "\n",
    "class LotkaVolterra(ssm.StateSpaceModel):\n",
    "    default_params = dict(\n",
    "        alpha=2/3,\n",
    "        beta=4/3,\n",
    "        gamma=1.0,\n",
    "        delta=1.0,\n",
    "        sigma0=0.1,\n",
    "        sigmaX_rel=0.1,\n",
    "        sigmaY_rel=2.0,\n",
    "        sigmaX_abs=0.01,\n",
    "        sigmaY_abs=0.1,\n",
    "        dt=0.05,\n",
    "        dt_obs=0.5,\n",
    "    )\n",
    "\n",
    "    def PX0(self):\n",
    "        prey0 = self.alpha / self.beta\n",
    "        predator0 = self.gamma / self.delta\n",
    "        return dists.StructDist(dict(\n",
    "            prey=dists.TruncNormal(mu=prey0, sigma=self.sigma0 * prey0, a=0.0, b=np.inf),\n",
    "            predator=dists.TruncNormal(mu=predator0, sigma=self.sigma0 * predator0, a=0.0, b=np.inf),\n",
    "        ))\n",
    "\n",
    "    def PX_onestep(self, xp):\n",
    "        new_prey = np.maximum(0.0, xp['prey'] + self.dt * (self.alpha * xp['prey'] - self.beta * xp['prey'] * xp['predator']))\n",
    "        new_predator = np.maximum(0.0, xp['predator'] + self.dt * (self.delta * xp['prey'] * xp['predator'] - self.gamma * xp['predator']))\n",
    "        return dists.StructDist(dict(\n",
    "            prey=dists.TruncNormal(mu=new_prey, sigma=np.sqrt(self.dt) * np.sqrt(self.sigmaX_abs + self.sigmaX_rel * new_prey), a=0.0, b=np.inf),\n",
    "            predator=dists.TruncNormal(mu=new_predator, sigma=np.sqrt(self.dt) * np.sqrt(self.sigmaX_abs + self.sigmaX_rel * new_predator), a=0.0, b=np.inf),\n",
    "        ))\n",
    "\n",
    "    def PX(self, t, xp):\n",
    "        nsteps = int(np.ceil(self.dt_obs / self.dt))\n",
    "        return MultipleSteps(self.PX_onestep, xp, nsteps)\n",
    "\n",
    "    def PY(self, t, xp, x):\n",
    "        return dists.StructDist(dict(\n",
    "            obs_prey=dists.TruncNormal(mu=x['prey'], sigma=np.sqrt(self.sigmaY_abs + self.sigmaY_rel * x['prey']), a=0.0, b=np.inf),\n",
    "            obs_predator=dists.TruncNormal(mu=x['predator'], sigma=np.sqrt(self.sigmaY_abs + self.sigmaY_rel * x['predator']), a=0.0, b=np.inf),\n",
    "        ))\n",
    "\"\"\""
   ]
  },
  {
   "cell_type": "code",
   "execution_count": null,
   "id": "4579bfe2-d84c-4e9a-af05-57eca3cf6705",
   "metadata": {},
   "outputs": [],
   "source": [
    "params = (sigma0=1.0, sigmaX_rel=0.15, sigmaX_abs=0.001, sigmaY_rel=0.15, sigmaY_abs=0.05)\n",
    "ssm_py = py\"LotkaVolterra\"(; params...)\n",
    "ssm_jl = LotkaVolterra(; params...)"
   ]
  },
  {
   "cell_type": "code",
   "execution_count": null,
   "id": "ab37fc21-1c8f-440d-8b73-df8d9bb6e974",
   "metadata": {},
   "outputs": [],
   "source": [
    "T = 100\n",
    "\n",
    "xtrue_py, data_py = ssm_py.simulate(T)\n",
    "names = xtrue_py[1].dtype.names\n",
    "i_predator_xtrue, i_prey_xtrue = xtrue_py[1].dtype.names[1] == \"predator\" ? (1, 2) : (2, 1)\n",
    "i_predator_data, i_prey_data = data_py[1].dtype.names[1] == \"obs_predator\" ? (1, 2) : (2, 1)\n",
    "\n",
    "xtrue, data = first.(xtrue_py), first.(data_py);\n",
    "xtrue = map(collect, xtrue)\n",
    "data = map(collect, data)\n",
    "if eltype(data) <: Vector\n",
    "    N = length(first(data))\n",
    "    data = collect(SVector{N, Float64}, data)\n",
    "end\n",
    "if eltype(xtrue) <: Vector\n",
    "    N = length(first(xtrue))\n",
    "    xtrue = collect(SVector{N, Float64}, xtrue)\n",
    "end\n",
    "\n",
    "if i_predator_xtrue == 1\n",
    "    xtrue = map(reverse, xtrue)\n",
    "end\n",
    "if i_predator_data == 1\n",
    "    data = map(reverse, data)\n",
    "end\n",
    "\n",
    "nothing"
   ]
  },
  {
   "cell_type": "code",
   "execution_count": null,
   "id": "83d233cd-b053-423a-9f71-541bff90ae4c",
   "metadata": {},
   "outputs": [],
   "source": [
    "[\n",
    "    plot([\n",
    "        scatter(x=1:T, y=getindex.(xtrue, 1), mode=\"markers\", name=\"state (prey)\"),\n",
    "        scatter(x=1:T, y=getindex.(data, 1), mode=\"markers\", name=\"observation (prey)\"),\n",
    "    ]);\n",
    "    plot([\n",
    "        scatter(x=1:T, y=getindex.(xtrue, 2), mode=\"markers\", name=\"state (predator)\"),\n",
    "        scatter(x=1:T, y=getindex.(data, 2), mode=\"markers\", name=\"observation (predator)\"),\n",
    "    ])\n",
    "]"
   ]
  },
  {
   "cell_type": "code",
   "execution_count": null,
   "id": "6308aadf-bfc8-4b2b-b56e-6904e3d81b35",
   "metadata": {},
   "outputs": [],
   "source": [
    "fk_bf_py = pyparticles.state_space_models.Bootstrap(ssm=ssm_py, data=data_py)"
   ]
  },
  {
   "cell_type": "code",
   "execution_count": null,
   "id": "f379b215-e615-4d34-9645-03bd1b9d571d",
   "metadata": {},
   "outputs": [],
   "source": [
    "py\"\"\"\n",
    "def meanvar(W, x):\n",
    "    m = np.average(x, weights=W, axis=0)\n",
    "    m2 = np.average(x**2, weights=W, axis=0)\n",
    "    v = m2 - m**2\n",
    "    return m, v\n",
    "def mom_func(W, x):\n",
    "    #prey = np.asarray([z['prey'] for z in x])\n",
    "    #predator = np.asarray([z['predator'] for z in x])\n",
    "    prey = x['prey']\n",
    "    predator = x['predator']\n",
    "    m_prey, v_prey = meanvar(W, prey)\n",
    "    m_predator, v_predator = meanvar(W, predator)\n",
    "    return {'mean_prey': m_prey, 'var_prey': v_prey, 'mean_predator': m_predator, 'var_predator': v_predator}\n",
    "\"\"\""
   ]
  },
  {
   "cell_type": "code",
   "execution_count": null,
   "id": "d9347d27-fcbb-4077-8f18-0c76378b9caf",
   "metadata": {},
   "outputs": [],
   "source": [
    "function run_smc_py(fk, N)\n",
    "    f = @pycall pyparticles.SMC(fk=fk, N=N, collect=[Moments(mom_func=py\"mom_func\")], verbose=false, qmc=false, resampling=\"systematic\", ESSrmin=0.5)::PyObject\n",
    "    f.run()\n",
    "    return f\n",
    "end"
   ]
  },
  {
   "cell_type": "code",
   "execution_count": null,
   "id": "2773fe11-8aa0-49d3-9a52-eca85ad8b87e",
   "metadata": {},
   "outputs": [],
   "source": [
    "N = 100\n",
    "GC.gc()\n",
    "bf_py = @time run_smc_py(fk_bf_py, N)"
   ]
  },
  {
   "cell_type": "code",
   "execution_count": null,
   "id": "a5e5d11d-b353-4662-847a-d96dce962bbf",
   "metadata": {},
   "outputs": [],
   "source": [
    "py_means_prey = [x[\"mean_prey\"] for x in bf_py.\"summaries\".moments];\n",
    "py_vars_prey = [x[\"var_prey\"] for x in bf_py.\"summaries\".moments];\n",
    "py_means_predator = [x[\"mean_predator\"] for x in bf_py.\"summaries\".moments];\n",
    "py_vars_predator = [x[\"var_predator\"] for x in bf_py.\"summaries\".moments];"
   ]
  },
  {
   "cell_type": "code",
   "execution_count": null,
   "id": "21593390-4e10-42b2-8f47-15e6cf15f2f2",
   "metadata": {},
   "outputs": [],
   "source": [
    "fk_bf_jl = BootstrapFilter(ssm_jl, data);"
   ]
  },
  {
   "cell_type": "code",
   "execution_count": null,
   "id": "73ee3643-cda0-4d0b-88c3-c7a7ce88de4a",
   "metadata": {},
   "outputs": [],
   "source": [
    "function run_smc_jl(fk::FeynmanKacModel{T}, N::Integer) where {T}\n",
    "    f = SMC(\n",
    "        fk, nothing, N,\n",
    "        ParticleHistoryLength(FullHistory()),\n",
    "        (mean_and_var=RunningSummary(MeanAndVariance(), FullHistory()), ),\n",
    "        AdaptiveResampling(SystematicResampling(), 0.5),\n",
    "    )\n",
    "    offlinefilter!(f)\n",
    "    return f\n",
    "end"
   ]
  },
  {
   "cell_type": "code",
   "execution_count": null,
   "id": "7a22b186-221a-41ca-bca4-67f9b23bc1f6",
   "metadata": {},
   "outputs": [],
   "source": [
    "GC.gc()\n",
    "bf_jl = @time run_smc_jl(fk_bf_jl, N);"
   ]
  },
  {
   "cell_type": "code",
   "execution_count": null,
   "id": "8c0524df-daeb-40b5-b73f-a884ce652891",
   "metadata": {},
   "outputs": [],
   "source": [
    "jl_means = getproperty.(bf_jl.history_run.mean_and_var, :mean)\n",
    "jl_vars = getproperty.(bf_jl.history_run.mean_and_var, :var);\n",
    "jl_means_prey = getindex.(jl_means, 1)\n",
    "jl_means_predator = getindex.(jl_means, 2)\n",
    "jl_vars_prey = getindex.(jl_vars, 1)\n",
    "jl_vars_predator = getindex.(jl_vars, 2)\n",
    "nothing"
   ]
  },
  {
   "cell_type": "code",
   "execution_count": null,
   "id": "d4e325d1-b4b0-4ae0-8f8e-41454afb4f1b",
   "metadata": {},
   "outputs": [],
   "source": [
    "plot([\n",
    "    scatter(x=1:T, y=py_means_prey, mode=\"lines\", line_color=\"black\", name=\"particle (py) filter mean\"),\n",
    "    scatter(x=1:T, y=py_means_prey.+sqrt.(py_vars_prey), mode=\"lines\", line_color=\"gray\", name=\"particle (py) filter mean + 1sd\"),\n",
    "    scatter(x=1:T, y=py_means_prey.-sqrt.(py_vars_prey), mode=\"lines\", line_color=\"gray\", name=\"particle (py) filter mean - 1sd\"),\n",
    "    scatter(x=1:T, y=jl_means_prey, mode=\"lines\", line_color=\"red\", name=\"particle (jl) filter mean\"),\n",
    "    scatter(x=1:T, y=jl_means_prey.+sqrt.(jl_vars_prey), mode=\"lines\", line_color=\"orange\", name=\"particle (jl) filter mean + 1sd\"),\n",
    "    scatter(x=1:T, y=jl_means_prey.-sqrt.(jl_vars_prey), mode=\"lines\", line_color=\"orange\", name=\"particle (jl) filter mean - 1sd\"),\n",
    "    scatter(x=1:T, y=getindex.(xtrue, 1), mode=\"markers\", name=\"state\"),\n",
    "    scatter(x=1:T, y=getindex.(data, 1), mode=\"markers\", name=\"observation\"),\n",
    "])"
   ]
  },
  {
   "cell_type": "code",
   "execution_count": null,
   "id": "04ed8f59-5936-4d0d-948d-b08c44074e3f",
   "metadata": {},
   "outputs": [],
   "source": [
    "plot([\n",
    "    scatter(x=1:T, y=py_means_predator, mode=\"lines\", line_color=\"black\", name=\"particle (py) filter mean\"),\n",
    "    scatter(x=1:T, y=py_means_predator.+sqrt.(py_vars_predator), mode=\"lines\", line_color=\"gray\", name=\"particle (py) filter mean + 1sd\"),\n",
    "    scatter(x=1:T, y=py_means_predator.-sqrt.(py_vars_predator), mode=\"lines\", line_color=\"gray\", name=\"particle (py) filter mean - 1sd\"),\n",
    "    scatter(x=1:T, y=jl_means_predator, mode=\"lines\", line_color=\"red\", name=\"particle (jl) filter mean\"),\n",
    "    scatter(x=1:T, y=jl_means_predator.+sqrt.(jl_vars_predator), mode=\"lines\", line_color=\"orange\", name=\"particle (jl) filter mean + 1sd\"),\n",
    "    scatter(x=1:T, y=jl_means_predator.-sqrt.(jl_vars_predator), mode=\"lines\", line_color=\"orange\", name=\"particle (jl) filter mean - 1sd\"),\n",
    "    scatter(x=1:T, y=getindex.(xtrue, 2), mode=\"markers\", name=\"state\"),\n",
    "    scatter(x=1:T, y=getindex.(data, 2), mode=\"markers\", name=\"observation\"),\n",
    "])"
   ]
  }
 ],
 "metadata": {
  "@webio": {
   "lastCommId": "fdfa7976-a35c-4967-b81f-a6d370dc4769",
   "lastKernelId": "a0c92082-e027-45bb-8aae-3c466dc63e76"
  },
  "kernelspec": {
   "display_name": "Julia (threaded)",
   "language": "julia",
   "name": "julia-threaded"
  },
  "language_info": {
   "file_extension": ".jl",
   "mimetype": "application/julia",
   "name": "julia",
   "version": "1.8.2"
  }
 },
 "nbformat": 4,
 "nbformat_minor": 5
}
