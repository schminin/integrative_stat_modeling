{
 "cells": [
  {
   "cell_type": "code",
   "execution_count": null,
   "id": "09a657c8-6884-41d7-8da0-6113d2e669f7",
   "metadata": {},
   "outputs": [],
   "source": [
    "using Pkg\n",
    "const NOTEBOOKS_ROOT = @__DIR__\n",
    "Pkg.activate(NOTEBOOKS_ROOT)\n",
    "# include(joinpath(NOTEBOOKS_ROOT, \"init_python.jl\"))\n",
    "using Revise"
   ]
  },
  {
   "cell_type": "code",
   "execution_count": null,
   "id": "3211c93a-69f3-4514-969b-457f44f7954a",
   "metadata": {},
   "outputs": [],
   "source": [
    "using Random\n",
    "using StaticArrays\n",
    "using Distributions\n",
    "using StaticDistributions\n",
    "using Particles\n",
    "using PlotlyJS"
   ]
  },
  {
   "cell_type": "code",
   "execution_count": null,
   "id": "60169357-276e-436e-98c5-a770311fc48e",
   "metadata": {},
   "outputs": [],
   "source": [
    "struct LotkaVolterra <: StateSpaceModel{SVector{2, Float64}, SVector{2, Float64}}\n",
    "    dt::Float64\n",
    "    sigma0::Float64\n",
    "    sigmaX_rel::Float64\n",
    "    sigmaY_rel::Float64\n",
    "    sigmaX_abs::Float64\n",
    "    sigmaY_abs::Float64\n",
    "end\n",
    "\n",
    "LotkaVolterra(; sigma0=0.1, sigmaX_rel=0.1, sigmaY_rel=2.0, sigmaX_abs=0.01, sigmaY_abs=0.1, dt=0.05) = LotkaVolterra(dt, sigma0, sigmaX_rel, sigmaY_rel, sigmaX_abs, sigmaY_abs)\n",
    "\n",
    "Particles.parameter_type(::LotkaVolterra) = Vector{Float64} # TODO allow different parameter type: add a function that only checks type isparametertypecorrect or something\n",
    "Particles.parameter_template(::LotkaVolterra) = Float64[log(2/3), log(4/3), log(1), log(1)]\n",
    "Particles.isparameter(::LotkaVolterra, θ) = isa(θ, Vector{Float64}) && length(θ) == 4\n",
    "\n",
    "function Particles.ssm_PX0(ssm::LotkaVolterra, θ::AbstractVector{<:Real})\n",
    "    alpha, beta, gamma, delta = exp(θ[1]), exp(θ[2]), exp(θ[3]), exp(θ[4])\n",
    "    prey0 = alpha / beta\n",
    "    predator0 = gamma / delta\n",
    "    return SIndependent(\n",
    "        truncated(Normal(prey0, ssm.sigma0 * prey0; check_args=false), 0, nothing), # NB Inf64 break AD\n",
    "        truncated(Normal(predator0, ssm.sigma0 * predator0; check_args=false), 0, nothing),\n",
    "    )\n",
    "end\n",
    "\n",
    "function Particles.ssm_PX(ssm::LotkaVolterra, θ::AbstractVector{<:Real}, t::Integer, xp::SVector{2})\n",
    "    alpha, beta, gamma, delta = exp(θ[1]), exp(θ[2]), exp(θ[3]), exp(θ[4])\n",
    "    prey, predator = xp\n",
    "    new_prey = max(0.0, prey + ssm.dt * (alpha * prey - beta * prey * predator))\n",
    "    new_predator = max(0.0, predator + ssm.dt * (delta * prey * predator - gamma * predator))\n",
    "    return SIndependent(\n",
    "        truncated(Normal(new_prey, sqrt(ssm.dt) * sqrt(ssm.sigmaX_abs + ssm.sigmaX_rel * new_prey); check_args=false), 0.0, nothing),\n",
    "        truncated(Normal(new_predator, sqrt(ssm.dt) * sqrt(ssm.sigmaX_abs + ssm.sigmaX_rel * new_predator); check_args=false), 0.0, nothing),\n",
    "    )\n",
    "end\n",
    "\n",
    "function Particles.ssm_PY(ssm::LotkaVolterra, θ::AbstractVector{<:Real}, t::Integer, x::SVector{2})\n",
    "    prey, predator = x\n",
    "    return SIndependent(\n",
    "        truncated(Normal(prey, sqrt(ssm.sigmaY_abs + ssm.sigmaY_rel * prey); check_args=false), 0.0, nothing),\n",
    "        truncated(Normal(predator, sqrt(ssm.sigmaY_abs + ssm.sigmaY_rel * predator); check_args=false), 0.0, nothing),\n",
    "    )\n",
    "end"
   ]
  },
  {
   "cell_type": "code",
   "execution_count": null,
   "id": "4579bfe2-d84c-4e9a-af05-57eca3cf6705",
   "metadata": {},
   "outputs": [],
   "source": [
    "ssm = LotkaVolterra(dt=0.5, sigma0=1.0, sigmaX_rel=0.15, sigmaX_abs=0.001, sigmaY_rel=0.15, sigmaY_abs=0.05)\n",
    "theta0 = Particles.parameter_template(ssm)"
   ]
  },
  {
   "cell_type": "code",
   "execution_count": null,
   "id": "83d233cd-b053-423a-9f71-541bff90ae4c",
   "metadata": {},
   "outputs": [],
   "source": [
    "T = 250\n",
    "xtrue, data_full = rand(ssm, theta0, T);\n",
    "data = similar(data_full, Union{Missing, eltype(data_full)})\n",
    "fill!(data, missing)\n",
    "mask = eachindex(data)[begin:4:end]\n",
    "data[mask] .= data_full[mask]\n",
    "[\n",
    "    plot([\n",
    "        scatter(x=1:T, y=getindex.(xtrue, 1), mode=\"markers\", name=\"state (prey)\"),\n",
    "        scatter(x=(1:T)[mask], y=getindex.(data[mask], 1), mode=\"markers\", name=\"observation (prey)\"),\n",
    "    ]);\n",
    "    plot([\n",
    "        scatter(x=1:T, y=getindex.(xtrue, 2), mode=\"markers\", name=\"state (predator)\"),\n",
    "        scatter(x=(1:T)[mask], y=getindex.(data[mask], 2), mode=\"markers\", name=\"observation (predator)\"),\n",
    "    ])\n",
    "]"
   ]
  },
  {
   "cell_type": "markdown",
   "id": "4601a167-a135-490f-ab04-13fc27a1d478",
   "metadata": {},
   "source": [
    "---"
   ]
  },
  {
   "cell_type": "code",
   "execution_count": null,
   "id": "09c161b3-36d0-4820-8908-168e64d94fd1",
   "metadata": {},
   "outputs": [],
   "source": [
    "struct LogPosterior{T_SMC <: SMC, T_CACHE}\n",
    "    pf::T_SMC\n",
    "    cache::T_CACHE\n",
    "    function LogPosterior(ssm::StateSpaceModel, data, nparticles::Integer)\n",
    "        bf = BootstrapFilter(ssm, data)\n",
    "        pf = SMC(\n",
    "            bf, Particles.parameter_template(ssm), nparticles,\n",
    "            ParticleHistoryLength(; logCnorm=StaticFiniteHistory{1}()),\n",
    "            NamedTuple(),\n",
    "            AdaptiveResampling(SystematicResampling(), 0.5),\n",
    "        )\n",
    "        cache = Particles.SMCCache(pf)\n",
    "        return new{typeof(pf), typeof(cache)}(pf, cache)\n",
    "    end\n",
    "end\n",
    "function (logp::LogPosterior)(theta)::Float64\n",
    "    reset!(logp.pf, theta)\n",
    "    offlinefilter!(logp.pf, logp.cache)\n",
    "    return logp.pf.history_pf.logCnorm[end]\n",
    "end\n",
    "\n",
    "struct LogPosteriorWithGradient{T_SMC1 <: SMC, T_SMC2 <: SMC, T_CACHE1, T_CACHE2}\n",
    "    pf::T_SMC1\n",
    "    pf_grad::T_SMC2\n",
    "    cache::T_CACHE1\n",
    "    cache_grad::T_CACHE2\n",
    "    function LogPosteriorWithGradient(ssm::StateSpaceModel, data, nparticles::Integer)\n",
    "        bf = BootstrapFilter(ssm, data)\n",
    "        pf = SMC(\n",
    "            bf, Particles.parameter_template(ssm), nparticles,\n",
    "            ParticleHistoryLength(; logCnorm=StaticFiniteHistory{1}()),\n",
    "            NamedTuple(),\n",
    "            AdaptiveResampling(SystematicResampling(), 0.5),\n",
    "        )\n",
    "        cache = Particles.SMCCache(pf)\n",
    "        pf_grad = SMC(\n",
    "            bf, Particles.parameter_template(ssm), nparticles,\n",
    "            ParticleHistoryLength(; logCnorm=StaticFiniteHistory{1}()),\n",
    "            (score=Score(), ),\n",
    "            AdaptiveResampling(SystematicResampling(), 0.5),\n",
    "        )\n",
    "        cache_grad = Particles.SMCCache(pf_grad)\n",
    "        return new{typeof(pf), typeof(pf_grad), typeof(cache), typeof(cache_grad)}(pf, pf_grad, cache, cache_grad)\n",
    "    end\n",
    "end\n",
    "function (logp::LogPosteriorWithGradient)(gradient, theta)\n",
    "    reset!(logp.pf_grad, theta)\n",
    "    offlinefilter!(logp.pf_grad, logp.cache_grad)\n",
    "    compute_summary!(gradient, logp.pf_grad, :score)\n",
    "    y = logp.pf_grad.history_pf.logCnorm[end]::Float64\n",
    "    # if !isfinite(y) || !all(isfinite, gradient)\n",
    "    #     @info \"logp is not finite\" theta logp=y ∇logp=gradient\n",
    "    #     flush(stdout)\n",
    "    # end\n",
    "    return y\n",
    "end\n",
    "function (logp::LogPosteriorWithGradient)(::Val{:return}, theta)\n",
    "    gradient = similar(theta, Float64)\n",
    "    y = logp(gradient, theta)\n",
    "    return y::Float64, gradient\n",
    "end\n",
    "function (logp::LogPosteriorWithGradient)(theta)\n",
    "    reset!(logp.pf, theta)\n",
    "    offlinefilter!(logp.pf, logp.cache)\n",
    "    y = logp.pf.history_pf.logCnorm[end]::Float64\n",
    "    # if !isfinite(y)\n",
    "    #     @info \"logp is not finite\" theta logp=y\n",
    "    #     flush(stdout)\n",
    "    # end\n",
    "    return y\n",
    "end"
   ]
  },
  {
   "cell_type": "code",
   "execution_count": null,
   "id": "afe772e7-59c7-4627-99ed-d6cc889fcc3a",
   "metadata": {},
   "outputs": [],
   "source": [
    "logp = LogPosterior(ssm, data, 250);\n",
    "@time logp(theta0)"
   ]
  },
  {
   "cell_type": "code",
   "execution_count": null,
   "id": "445511cf-9d98-4ea9-b368-218080cd395b",
   "metadata": {},
   "outputs": [],
   "source": [
    "logp = LogPosteriorWithGradient(ssm, data, 5);\n",
    "@time logp(Val(:return), theta0)"
   ]
  },
  {
   "cell_type": "markdown",
   "id": "7592d746-e002-4ca5-8e4c-011dc386549d",
   "metadata": {},
   "source": [
    "---\n",
    "### Compare variance of LogPosterior as the number of particles is increased"
   ]
  },
  {
   "cell_type": "code",
   "execution_count": null,
   "id": "ce96e5dd-d3a7-42dc-ac7d-d958c0f5f68e",
   "metadata": {},
   "outputs": [],
   "source": [
    "function logp_vs_nparticles(ssm::StateSpaceModel, data, nparticles::AbstractVector{<:Integer}, theta; nruns::Integer=10, kwargs...)\n",
    "    x = Vector{String}(undef, length(nparticles) * nruns)\n",
    "    y = Vector{Float64}(undef, length(nparticles) * nruns)\n",
    "    k = 1\n",
    "    for n in nparticles\n",
    "        logp = LogPosterior(ssm, data, n)\n",
    "        for _ in 1:nruns\n",
    "            @inbounds x[k] = string(convert(Int, n))\n",
    "            @inbounds y[k] = logp(theta)\n",
    "            k += 1\n",
    "        end\n",
    "    end\n",
    "    return plot(violin(; x, y, kwargs...))\n",
    "end"
   ]
  },
  {
   "cell_type": "code",
   "execution_count": null,
   "id": "36979908-be49-469d-9a00-7bbaa3315001",
   "metadata": {},
   "outputs": [],
   "source": [
    "logp_vs_nparticles(ssm, data, [50, 75, 100, 150, 200, 250, 300, 500, 1000], theta0; nruns=200)"
   ]
  },
  {
   "cell_type": "markdown",
   "id": "b14ae975-950a-4e00-a53b-a2fbec14fd95",
   "metadata": {},
   "source": [
    "---\n",
    "### Check derivative computation"
   ]
  },
  {
   "cell_type": "code",
   "execution_count": null,
   "id": "610d1087-9513-442c-88f3-1ad390d4e03f",
   "metadata": {},
   "outputs": [],
   "source": [
    "theta1 = Float64[log(0.5), log(1.5), log(0.8), log(1.2)]"
   ]
  },
  {
   "cell_type": "code",
   "execution_count": null,
   "id": "461cfe6c-a6bf-4331-8057-add53f2f0241",
   "metadata": {},
   "outputs": [],
   "source": [
    "# One realization\n",
    "_, grad_pf = @time logp(Val(:return), theta1)"
   ]
  },
  {
   "cell_type": "code",
   "execution_count": null,
   "id": "6fda6986-7557-4b35-8a30-bb42ddff152a",
   "metadata": {},
   "outputs": [],
   "source": [
    "# Multiple realizations\n",
    "using Statistics\n",
    "grads = [convert(SVector{4}, logp(Val(:return), theta1)[2]) for _ in 1:10]\n",
    "# new_grads = [convert(SVector{4}, logp(Val(:return), theta1)[2]) for _ in 1:30]\n",
    "# append!(grads, new_grads)\n",
    "grad_pf = mean(grads)"
   ]
  },
  {
   "cell_type": "code",
   "execution_count": null,
   "id": "367d9ce3-cddc-4c11-874e-86fc80bad56f",
   "metadata": {},
   "outputs": [],
   "source": [
    "using Dierckx\n",
    "cmp = 1\n",
    "f = if cmp == 1\n",
    "    x -> logp([theta1[1] + x, theta1[2], theta1[3], theta1[4]])\n",
    "elseif cmp == 2\n",
    "    x -> logp([theta1[1], theta1[2] + x, theta1[3], theta1[4]])\n",
    "elseif cmp == 3\n",
    "    x -> logp([theta1[1], theta1[2], theta1[3] + x, theta1[4]])\n",
    "elseif cmp == 4\n",
    "    x -> logp([theta1[1], theta1[2], theta1[3], theta1[4] + x])\n",
    "end\n",
    "dx = 0.000025\n",
    "x = -0.4:dx:0.4\n",
    "y = map(f, x);"
   ]
  },
  {
   "cell_type": "code",
   "execution_count": null,
   "id": "11788083-9e20-4161-8f6c-a2600756e244",
   "metadata": {},
   "outputs": [],
   "source": [
    "k = range(-0.399, 0.399, length=10)\n",
    "spline = Spline1D(x, y, k; k=3)\n",
    "println(derivative(spline, 0.0))\n",
    "plot([\n",
    "    scatter(; x, y, mode=\"markers\"),\n",
    "    scatter(; x=[-0.3, 0.3], y=[spline(0.0) - grad_pf[cmp] * 0.3, spline(0.0) + grad_pf[cmp] * 0.3], mode=\"lines\"),\n",
    "    scatter(; x, y=spline.(x), mode=\"lines\"),\n",
    "    scatter(; x=k, y=spline.(k), mode=\"markers\"),\n",
    "])"
   ]
  },
  {
   "cell_type": "markdown",
   "id": "8e60f63a-5c2e-49b9-adc9-f8600c5823d9",
   "metadata": {},
   "source": [
    "---\n",
    "### Metropolis-Hastings MCMC"
   ]
  },
  {
   "cell_type": "code",
   "execution_count": null,
   "id": "d01f4014-1892-403b-9f69-b07f82e7cba4",
   "metadata": {},
   "outputs": [],
   "source": [
    "using AdvancedMH\n",
    "using MCMCChains\n",
    "import StatsPlots"
   ]
  },
  {
   "cell_type": "code",
   "execution_count": null,
   "id": "64eae886-3af5-4cad-b25c-67946e94cd04",
   "metadata": {},
   "outputs": [],
   "source": [
    "logp = LogPosterior(ssm, data, 100)\n",
    "model = DensityModel(logp);"
   ]
  },
  {
   "cell_type": "code",
   "execution_count": null,
   "id": "73ee3643-cda0-4d0b-88c3-c7a7ce88de4a",
   "metadata": {},
   "outputs": [],
   "source": [
    "spl = RWMH([Normal(0.0, 0.05), Normal(0.0, 0.05), Normal(0.0, 0.05), Normal(0.0, 0.05)])\n",
    "chain = sample(model, spl, 100_000; init_params=theta0, param_names=[\"α\", \"β\", \"γ\", \"δ\"], chain_type=Chains)"
   ]
  },
  {
   "cell_type": "code",
   "execution_count": null,
   "id": "ab1c5951-54fd-461b-98e3-3a35d9ab6fb5",
   "metadata": {},
   "outputs": [],
   "source": [
    "StatsPlots.plot(chain)"
   ]
  },
  {
   "cell_type": "markdown",
   "id": "9d0371c4-dec6-45d9-99c7-39b01b81e53f",
   "metadata": {},
   "source": [
    "---\n",
    "### Hamiltonian MCMC"
   ]
  },
  {
   "cell_type": "code",
   "execution_count": null,
   "id": "28183440-52c7-4ba1-a0f2-ba89f99c1f40",
   "metadata": {},
   "outputs": [],
   "source": [
    "using AdvancedHMC"
   ]
  },
  {
   "cell_type": "code",
   "execution_count": null,
   "id": "abaed272-77d7-49bd-b422-71a04a022218",
   "metadata": {},
   "outputs": [],
   "source": [
    "using AdvancedHMC\n",
    "\n",
    "# Choose parameter dimensionality and initial parameter value\n",
    "D = length(theta)\n",
    "initial_θ = copy(theta)\n",
    "\n",
    "# Set the number of samples to draw and warmup iterations\n",
    "n_samples, n_adapts = 200, 100\n",
    "\n",
    "# Define a Hamiltonian system\n",
    "metric = DiagEuclideanMetric(D)\n",
    "hamiltonian = Hamiltonian(metric, logp, Base.Fix1(logp, Val(:return)))\n",
    "\n",
    "# Define a leapfrog solver, with initial step size chosen heuristically\n",
    "initial_ϵ = find_good_stepsize(hamiltonian, initial_θ)\n",
    "# initial_ϵ = 0.01\n",
    "integrator = Leapfrog(initial_ϵ)\n",
    "\n",
    "# Define an HMC sampler, with the following components\n",
    "#   - multinomial sampling scheme,\n",
    "#   - generalised No-U-Turn criteria, and\n",
    "#   - windowed adaption for step-size and diagonal mass matrix\n",
    "proposal = NUTS{MultinomialTS, GeneralisedNoUTurn}(integrator)\n",
    "adaptor = StanHMCAdaptor(MassMatrixAdaptor(metric), StepSizeAdaptor(0.8, integrator))"
   ]
  },
  {
   "cell_type": "code",
   "execution_count": null,
   "id": "53f10ebd-1307-4131-ad2c-f097cd03f3f3",
   "metadata": {},
   "outputs": [],
   "source": [
    "# Run the sampler to draw samples from the specified Gaussian, where\n",
    "#   - `samples` will store the samples\n",
    "#   - `stats` will store diagnostic statistics for each sample\n",
    "n_samples, n_adapts = 200, 100\n",
    "samples, stats = sample(hamiltonian, proposal, initial_θ, n_samples, adaptor, n_adapts; progress=false)"
   ]
  }
 ],
 "metadata": {
  "@webio": {
   "lastCommId": "dce8e7cf-07bd-480a-9b24-36bbc57e1828",
   "lastKernelId": "e5da9b9a-9af8-439d-a64a-7934c6970562"
  },
  "kernelspec": {
   "display_name": "Julia (threaded)",
   "language": "julia",
   "name": "julia-threaded"
  },
  "language_info": {
   "file_extension": ".jl",
   "mimetype": "application/julia",
   "name": "julia",
   "version": "1.8.2"
  }
 },
 "nbformat": 4,
 "nbformat_minor": 5
}
