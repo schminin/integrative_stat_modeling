{
 "cells": [
  {
   "cell_type": "code",
   "execution_count": null,
   "id": "0d0ed90a-121e-4003-8e05-c15ef9beff52",
   "metadata": {},
   "outputs": [],
   "source": [
    "using Pkg\n",
    "const NOTEBOOKS_ROOT = @__DIR__\n",
    "isfile(joinpath(NOTEBOOKS_ROOT, \"Project.toml\")) || include(\"init_project.jl\")\n",
    "Pkg.activate(NOTEBOOKS_ROOT)\n",
    "using Revise"
   ]
  },
  {
   "cell_type": "markdown",
   "id": "6080aa3b-082f-4c44-92ed-c963da3eb51f",
   "metadata": {},
   "source": [
    "### Discrete Cox model"
   ]
  },
  {
   "cell_type": "code",
   "execution_count": null,
   "id": "657c289d-0928-4d23-8d7e-7733f5988368",
   "metadata": {},
   "outputs": [],
   "source": [
    "using Distributions\n",
    "using Particles\n",
    "using PlotlyJS\n",
    "\n",
    "struct DiscreteCox <: StateSpaceModel{Float64, Int}\n",
    "    mu::Float64\n",
    "    sigma::Float64\n",
    "    phi::Float64\n",
    "end\n",
    "DiscreteCox(; mu=0.0, sigma=1.0, phi=0.95) = DiscreteCox(mu, sigma, phi)\n",
    "Particles.ssm_PX0(ssm::DiscreteCox, ::Nothing) = Normal(ssm.mu, ssm.sigma / sqrt((1 - ssm.phi) * (1 + ssm.phi)))\n",
    "Particles.ssm_PX(ssm::DiscreteCox, ::Nothing, t::Integer, xp::Real) = Normal(muladd(ssm.phi, xp - ssm.mu, ssm.mu), ssm.sigma)\n",
    "Particles.ssm_PY(ssm::DiscreteCox, ::Nothing, t::Integer, x::Real) = Poisson(exp(x))\n",
    "Particles.ssm_sup_logpdf_PX(ssm::DiscreteCox, ::Nothing, t::Integer, x::Real) = -log(ssm.sigma) - log(2*pi)/2 # if phi ≤ 1\n",
    "\n",
    "\"\"\"\n",
    "    Score\n",
    "score of the model (gradient of log-likelihood at theta=theta_0)\n",
    "\"\"\"\n",
    "struct Score <: Particles.ImmutableAdditiveFunction end\n",
    "function (::Score)(bf::BootstrapFilter{Float64, Int, DiscreteCox}, ::Nothing, x, ::Nothing)::Float64\n",
    "    ssm = bf.ssm\n",
    "    return ((1 - ssm.phi) * (1 + ssm.phi) / (2 * ssm.sigma^4)) * (x - ssm.mu)^2 - ssm.sigma^2 / 2\n",
    "end\n",
    "function (::Score)(bf::BootstrapFilter{Float64, Int, DiscreteCox}, ::Nothing, t::Integer, xp, x, ::Nothing)::Float64\n",
    "    ssm = bf.ssm\n",
    "    return muladd(ssm.phi, xp - ssm.mu, ssm.mu - x)^2 / (2 * ssm.sigma^4) - ssm.sigma^2 / 2\n",
    "end\n",
    "Particles.return_type(::Score, ::BootstrapFilter{Float64, Int, DiscreteCox}) = Float64"
   ]
  },
  {
   "cell_type": "code",
   "execution_count": null,
   "id": "aee1cdb9-4ce8-4fef-b898-aabc8a758325",
   "metadata": {},
   "outputs": [],
   "source": [
    "include(\"additive_smoothing_utils.jl\")\n",
    "function compute_score(ssm::StateSpaceModel, data::Vector{Int}, method::Particles.AfsMethod, ::Val{offline}=Val(false); kwargs...) where {offline}\n",
    "    return compute_addfun_last(ssm, data, Score(), method, Val(offline); kwargs...)\n",
    "end"
   ]
  },
  {
   "cell_type": "code",
   "execution_count": null,
   "id": "8b9c4ddd-775f-4832-8e93-b344452c455b",
   "metadata": {},
   "outputs": [],
   "source": [
    "ssm = DiscreteCox()"
   ]
  },
  {
   "cell_type": "markdown",
   "id": "b49dc312-ac21-4e32-906e-692d95909b40",
   "metadata": {},
   "source": [
    "### Simulate data"
   ]
  },
  {
   "cell_type": "code",
   "execution_count": null,
   "id": "a005e8b6-459e-430d-84ce-92d6340b551d",
   "metadata": {},
   "outputs": [],
   "source": [
    "T = 100\n",
    "# xtrue, data = rand(ssm, T)\n",
    "xtrue, data = [2.4021265350056944, 1.681624508654635, 2.3916947359876395, 4.77788647209322, 2.817148421953582, 3.4693282990887497, 3.2924510794624573, 5.011681413526453, 7.190454976294111, 6.967928865313658, 6.102722306108012, 4.487636893855688, 3.703846197361809, 3.7468282413507787, 2.8988502482381753, 2.5257424292420287, 1.3329589939737236, 0.8693102565291805, 2.711898711746743, 3.4232838880367797, 3.2453131166199407, 2.331887449217647, 3.3700451288125493, 4.252488078154874, 2.4038348942332135, 2.261371117945066, 2.9478443945807964, 2.682914704873883, 1.3585135164014874, 1.3926437420156972, -0.20822765483888794, -0.2658680311238287, 0.07618351356071174, 2.1709769773058425, 2.742357879584931, 2.628257920122673, 3.183596799522256, 2.0409879872348107, -0.03713106151521539, -0.5805168512529257, -0.6194246449677187, 1.3123945516084254, 0.970109940654305, 0.8950591383004288, 0.10543607139233557, 0.35279437922984114, -0.3491891121737035, -2.016274098243435, -1.1083793648677271, -0.4117322280012812, -0.5118909120660742, 1.1099251920213644, 1.2851962828014611, 1.5377462404247215, 0.057517125953026715, 0.5130136355717464, 0.9159240740327812, 1.6531357064720393, 1.748726382153127, 2.355084014692249, 1.9546883298793616, 2.271199044211417, 2.5570104439531662, 1.9408311991694989, 0.4747386323002716, -0.3847378120076566, 0.09586345989864509, -1.788164232258839, 0.19845446961195812, 0.7032762459314381, 0.581864986690299, 1.6669135895956826, 1.8116436386236507, 0.6530231531931909, 0.6795396754452527, 2.3592872304719084, 3.2559674377841263, 3.403227474923672, 4.130354333847429, 5.465074809642444, 5.477761488716303, 5.6612352411497096, 6.309660800274545, 7.688024615871875, 8.59400161729781, 8.25763747662676, 8.35246885224497, 7.692127177332258, 8.601585504922028, 8.408117815341656, 7.008772701254552, 7.340153378498685, 8.115159339115328, 7.958472562194978, 7.819763909587895, 8.003961033420545, 6.748063926944804, 6.804687618088711, 7.218016132369026, 7.441399002392016], [11, 7, 11, 119, 31, 28, 29, 133, 1311, 1017, 465, 91, 35, 34, 19, 12, 4, 3, 11, 25, 20, 13, 29, 64, 9, 6, 22, 19, 1, 3, 1, 0, 3, 14, 13, 13, 27, 7, 0, 0, 1, 5, 3, 4, 0, 2, 1, 0, 0, 3, 0, 3, 3, 3, 1, 4, 0, 2, 2, 11, 4, 13, 15, 5, 2, 1, 0, 0, 2, 1, 3, 5, 5, 2, 2, 8, 26, 39, 73, 221, 270, 300, 540, 2247, 5357, 3947, 4223, 2157, 5441, 4425, 1121, 1525, 3343, 2922, 2446, 2998, 868, 952, 1340, 1662];"
   ]
  },
  {
   "cell_type": "code",
   "execution_count": null,
   "id": "9e3f4a23-f93c-4330-867b-61edb3029b1d",
   "metadata": {},
   "outputs": [],
   "source": [
    "plot([\n",
    "    scatter(x=1:T, y=xtrue, mode=\"markers\", name=\"state\"),\n",
    "    scatter(x=1:T, y=log.(Float64.(data)), mode=\"markers\", name=\"observation\"),\n",
    "])"
   ]
  },
  {
   "cell_type": "markdown",
   "id": "ac2a97bd-0d14-4d52-bc00-d2d67dbd8b55",
   "metadata": {},
   "source": [
    "### Compute the score (once, just to precompile and check that it works)"
   ]
  },
  {
   "cell_type": "code",
   "execution_count": null,
   "id": "1d750138-7531-43b5-9e76-e893080f3905",
   "metadata": {},
   "outputs": [],
   "source": [
    "@time scores_jl = compute_score(ssm, data, ON2AfsMethod(); nparticles=1000, nruns=1);"
   ]
  },
  {
   "cell_type": "code",
   "execution_count": null,
   "id": "eea87db8-1d8e-4974-b0da-caae197c3a13",
   "metadata": {},
   "outputs": [],
   "source": [
    "@time scores_jl = compute_score(ssm, data, AdaSmooth(0.5; use_rejection=false); nparticles=1000, nruns=1);"
   ]
  },
  {
   "cell_type": "code",
   "execution_count": null,
   "id": "2f409b61-74f6-4bbf-a76f-5dc4e51df7f5",
   "metadata": {},
   "outputs": [],
   "source": [
    "@time scores_jl = compute_score(ssm, data, AdaSmooth(0.5; use_rejection=true); nparticles=1000, nruns=1);"
   ]
  },
  {
   "cell_type": "code",
   "execution_count": null,
   "id": "2daeb00a-542f-422d-815c-ee1084a5f2ac",
   "metadata": {},
   "outputs": [],
   "source": [
    "@time scores_jl = compute_score(ssm, data, AmortizedAdaSmooth(0.5; use_rejection=false); nparticles=1000, nruns=1);"
   ]
  },
  {
   "cell_type": "code",
   "execution_count": null,
   "id": "7a028a28-98a5-429e-a556-5a14fc30eec4",
   "metadata": {},
   "outputs": [],
   "source": [
    "@time scores_jl = compute_score(ssm, data, AmortizedAdaSmooth(0.5; use_rejection=true); nparticles=1000, nruns=1);"
   ]
  },
  {
   "cell_type": "code",
   "execution_count": null,
   "id": "f29e087f-89b6-4ee9-8e4e-9c5f451def00",
   "metadata": {},
   "outputs": [],
   "source": [
    "@time scores_jl = compute_score(ssm, data, AmortizedAdaSmooth(0.5; use_rejection=false), Val(true); nparticles=1000, nruns=1);"
   ]
  },
  {
   "cell_type": "code",
   "execution_count": null,
   "id": "efae6195-52ce-42e8-a1cf-9f4ab7034fe6",
   "metadata": {
    "tags": []
   },
   "outputs": [],
   "source": [
    "@time scores_jl = compute_score(ssm, data, AmortizedAdaSmooth(0.5; use_rejection=true), Val(true); nparticles=1000, nruns=1);"
   ]
  },
  {
   "cell_type": "markdown",
   "id": "0328b0bf-8a60-4736-aef6-7949bead0887",
   "metadata": {
    "tags": []
   },
   "source": [
    "### Compare methods"
   ]
  },
  {
   "cell_type": "code",
   "execution_count": null,
   "id": "8fb84f86-9c62-4a94-94ed-40cd9cd415df",
   "metadata": {},
   "outputs": [],
   "source": [
    "include(\"violin.jl\");"
   ]
  },
  {
   "cell_type": "code",
   "execution_count": null,
   "id": "a8018af7-68d2-4e00-b9c4-f0fcceb94367",
   "metadata": {},
   "outputs": [],
   "source": [
    "nruns = 500;\n",
    "on2_nparticles = 1000;\n",
    "adasmooth_nparticles = 2000;"
   ]
  },
  {
   "cell_type": "code",
   "execution_count": null,
   "id": "0f0a5dd7-43e0-4e23-a33d-194be724dfc6",
   "metadata": {
    "tags": []
   },
   "outputs": [],
   "source": [
    "scores_on2 = @time compute_score(ssm, data, ON2AfsMethod(); nparticles=on2_nparticles, nruns);"
   ]
  },
  {
   "cell_type": "code",
   "execution_count": null,
   "id": "90c5fd7e-a3ec-4af5-99f2-5f049a1953ea",
   "metadata": {},
   "outputs": [],
   "source": [
    "scores_asr = @time compute_score(ssm, data, AdaSmooth(0.5; use_rejection=true); nparticles=adasmooth_nparticles, nruns);"
   ]
  },
  {
   "cell_type": "code",
   "execution_count": null,
   "id": "5cd578f3-669c-42bc-ae60-95664d544ece",
   "metadata": {},
   "outputs": [],
   "source": [
    "scores_ase = @time compute_score(ssm, data, AdaSmooth(0.5; use_rejection=false); nparticles=adasmooth_nparticles, nruns);"
   ]
  },
  {
   "cell_type": "code",
   "execution_count": null,
   "id": "1cf5915a-32d4-404f-846b-af64eb0f01aa",
   "metadata": {},
   "outputs": [],
   "source": [
    "scores_aasr = @time compute_score(ssm, data, AmortizedAdaSmooth(0.5; use_rejection=true); nparticles=adasmooth_nparticles, nruns);"
   ]
  },
  {
   "cell_type": "code",
   "execution_count": null,
   "id": "10f74960-8ceb-4cfe-92f3-94120cc11419",
   "metadata": {},
   "outputs": [],
   "source": [
    "scores_aase = @time compute_score(ssm, data, AmortizedAdaSmooth(0.5; use_rejection=false); nparticles=adasmooth_nparticles, nruns);"
   ]
  },
  {
   "cell_type": "code",
   "execution_count": null,
   "id": "437a395d-3efd-47c3-8fab-101a8371cef8",
   "metadata": {},
   "outputs": [],
   "source": [
    "scores_oaasr = @time compute_score(ssm, data, AmortizedAdaSmooth(0.5; use_rejection=true), Val(true); nparticles=adasmooth_nparticles, nruns);"
   ]
  },
  {
   "cell_type": "code",
   "execution_count": null,
   "id": "78ba52d2-eaec-451c-9bbe-37a38a9fba83",
   "metadata": {},
   "outputs": [],
   "source": [
    "scores_oaase = @time compute_score(ssm, data, AmortizedAdaSmooth(0.5; use_rejection=false), Val(true); nparticles=adasmooth_nparticles, nruns);"
   ]
  },
  {
   "cell_type": "code",
   "execution_count": null,
   "id": "eba07127-7988-4872-86b0-770069981977",
   "metadata": {},
   "outputs": [],
   "source": [
    "violinplot(\n",
    "    (scores_on2, \"O(N²), $(on2_nparticles/1000)k particles\"),\n",
    "    (scores_asr, \"AdaSmooth R, $(adasmooth_nparticles/1000)k particles\"),\n",
    "    (scores_aasr, \"AmortizedAdaSmooth R, $(adasmooth_nparticles/1000)k particles\"),\n",
    "    (scores_oaasr, \"Offline AmortizedAdaSmooth R, $(adasmooth_nparticles/1000)k particles\"),\n",
    "    (scores_ase, \"AdaSmooth E, $(adasmooth_nparticles/1000)k particles\"),\n",
    "    (scores_aase, \"AmortizedAdaSmooth E, $(adasmooth_nparticles/1000)k particles\"),\n",
    "    (scores_oaase, \"Offline AmortizedAdaSmooth E, $(adasmooth_nparticles/1000)k particles\"),\n",
    "    meanline_visible=true,\n",
    ")"
   ]
  },
  {
   "cell_type": "markdown",
   "id": "d245eedf-8b07-45f0-97b7-14220d8dd9f4",
   "metadata": {},
   "source": [
    "### Check type stability (SnoopCompile)"
   ]
  },
  {
   "cell_type": "code",
   "execution_count": null,
   "id": "d5ae0d25-2917-40ae-8ac8-d0a8d6af792e",
   "metadata": {},
   "outputs": [],
   "source": [
    "using SnoopCompile"
   ]
  },
  {
   "cell_type": "code",
   "execution_count": null,
   "id": "fbb08a85-94bf-4e28-bf44-b77d21361efd",
   "metadata": {},
   "outputs": [],
   "source": [
    "tinf = @snoopi_deep compute_score(DiscreteCox(), data, NaiveAfsMethod(); nparticles=100, nruns=10)"
   ]
  },
  {
   "cell_type": "code",
   "execution_count": null,
   "id": "77565f91-8258-4569-8092-73a5bb5154ce",
   "metadata": {},
   "outputs": [],
   "source": [
    "itrigs = inference_triggers(tinf)"
   ]
  },
  {
   "cell_type": "code",
   "execution_count": null,
   "id": "df7f382c-a059-4d85-8fc1-9638c80b0c15",
   "metadata": {},
   "outputs": [],
   "source": [
    "tinf = @snoopi_deep compute_score(DiscreteCox(), data, ON2AfsMethod(); nparticles=100, nruns=10)"
   ]
  },
  {
   "cell_type": "code",
   "execution_count": null,
   "id": "763acb30-f84c-4ef7-a736-c56377b6a510",
   "metadata": {},
   "outputs": [],
   "source": [
    "itrigs = inference_triggers(tinf)"
   ]
  },
  {
   "cell_type": "code",
   "execution_count": null,
   "id": "1ad4c940-ef14-4934-9fbd-91ce751cd147",
   "metadata": {},
   "outputs": [],
   "source": [
    "tinf = @snoopi_deep compute_score(DiscreteCox(), data, AdaSmooth(0.5; use_rejection=true); nparticles=100, nruns=10)"
   ]
  },
  {
   "cell_type": "code",
   "execution_count": null,
   "id": "d4e10853-c155-4c80-b48b-aafcc0be1a7c",
   "metadata": {},
   "outputs": [],
   "source": [
    "itrigs = inference_triggers(tinf)"
   ]
  },
  {
   "cell_type": "code",
   "execution_count": null,
   "id": "e1bd3485-90cd-4cb4-9f42-28c79b01e9ca",
   "metadata": {},
   "outputs": [],
   "source": [
    "tinf = @snoopi_deep compute_score(DiscreteCox(), data, AdaSmooth(0.5; use_rejection=false); nparticles=100, nruns=10)"
   ]
  },
  {
   "cell_type": "code",
   "execution_count": null,
   "id": "ab80db8b-c84d-4347-85cf-5fcb65af2f7a",
   "metadata": {},
   "outputs": [],
   "source": [
    "itrigs = inference_triggers(tinf)"
   ]
  },
  {
   "cell_type": "code",
   "execution_count": null,
   "id": "737e4d2e-88d6-419a-869f-f64ab667dbc6",
   "metadata": {},
   "outputs": [],
   "source": [
    "tinf = @snoopi_deep compute_score(DiscreteCox(), data, AmortizedAdaSmooth(0.5; use_rejection=true); nparticles=100, nruns=10);"
   ]
  },
  {
   "cell_type": "code",
   "execution_count": null,
   "id": "c83a6708-6ab6-4e2b-91bf-e9fb9605c1be",
   "metadata": {},
   "outputs": [],
   "source": [
    "itrigs = inference_triggers(tinf)"
   ]
  },
  {
   "cell_type": "code",
   "execution_count": null,
   "id": "fe662102-8bac-4417-b206-89aec6a82bdd",
   "metadata": {},
   "outputs": [],
   "source": [
    "tinf = @snoopi_deep compute_score(DiscreteCox(), data, AmortizedAdaSmooth(0.5; use_rejection=false); nparticles=100, nruns=10);"
   ]
  },
  {
   "cell_type": "code",
   "execution_count": null,
   "id": "874a725f-8022-4c43-87db-e0ed6dd132a7",
   "metadata": {},
   "outputs": [],
   "source": [
    "itrigs = inference_triggers(tinf)"
   ]
  },
  {
   "cell_type": "code",
   "execution_count": null,
   "id": "a28a6637-20c9-4656-b7a6-dabd584c6d25",
   "metadata": {},
   "outputs": [],
   "source": [
    "tinf = @snoopi_deep compute_score(DiscreteCox(), data, AmortizedAdaSmooth(0.5; use_rejection=true), Val{true}(); nparticles=100, nruns=10);"
   ]
  },
  {
   "cell_type": "code",
   "execution_count": null,
   "id": "46800776-a850-4bfc-b185-8878d81b4465",
   "metadata": {},
   "outputs": [],
   "source": [
    "itrigs = inference_triggers(tinf)"
   ]
  },
  {
   "cell_type": "code",
   "execution_count": null,
   "id": "e1123e4e-c4b5-41e6-8713-580021ce3f81",
   "metadata": {},
   "outputs": [],
   "source": [
    "tinf = @snoopi_deep compute_score(DiscreteCox(), data, AmortizedAdaSmooth(0.5; use_rejection=false), Val{true}(); nparticles=100, nruns=10);"
   ]
  },
  {
   "cell_type": "code",
   "execution_count": null,
   "id": "1d8b005f-fa22-41c1-a919-a9846d1c850f",
   "metadata": {
    "tags": []
   },
   "outputs": [],
   "source": [
    "itrigs = inference_triggers(tinf)"
   ]
  },
  {
   "cell_type": "code",
   "execution_count": null,
   "id": "4978e65b-31a4-4d98-b6fb-e7342b32f115",
   "metadata": {},
   "outputs": [],
   "source": [
    "suggest(itrigs[1])"
   ]
  },
  {
   "cell_type": "markdown",
   "id": "aea0df25-6b9f-43ac-bf7c-0b71f7420293",
   "metadata": {},
   "source": [
    "### Check type stability (JET)"
   ]
  },
  {
   "cell_type": "code",
   "execution_count": null,
   "id": "872344b3-99da-450e-b7c3-4fc4443063bf",
   "metadata": {},
   "outputs": [],
   "source": [
    "using JET"
   ]
  },
  {
   "cell_type": "code",
   "execution_count": null,
   "id": "f5c12cb9-ddbc-456e-98db-7e4d6f2fa0bc",
   "metadata": {},
   "outputs": [],
   "source": [
    "@report_opt skip_noncompileable_calls=false compute_score(DiscreteCox(), data, NaiveAfsMethod(); nparticles=1_000, nruns=250)"
   ]
  },
  {
   "cell_type": "code",
   "execution_count": null,
   "id": "822cd027-877d-4438-b7e6-06fccabff704",
   "metadata": {},
   "outputs": [],
   "source": [
    "@report_opt skip_noncompileable_calls=false compute_score(DiscreteCox(), data, ON2AfsMethod(); nparticles=1_000, nruns=250)"
   ]
  },
  {
   "cell_type": "code",
   "execution_count": null,
   "id": "ea9ac8f9-bff4-49f5-87b5-b94c834c69ff",
   "metadata": {},
   "outputs": [],
   "source": [
    "@report_opt skip_noncompileable_calls=false compute_score(DiscreteCox(), data, AdaSmooth(0.5; use_rejection=true); nparticles=1_000, nruns=250)"
   ]
  },
  {
   "cell_type": "code",
   "execution_count": null,
   "id": "5598fd2b-ef11-414e-a649-eaa01ffe221e",
   "metadata": {},
   "outputs": [],
   "source": [
    "@report_opt skip_noncompileable_calls=false compute_score(DiscreteCox(), data, AdaSmooth(0.5; use_rejection=false); nparticles=1_000, nruns=250)"
   ]
  },
  {
   "cell_type": "code",
   "execution_count": null,
   "id": "0cfdd86b-202f-4bf3-8ec8-d8b80f4b63f6",
   "metadata": {},
   "outputs": [],
   "source": [
    "@report_opt skip_noncompileable_calls=false compute_score(DiscreteCox(), data, AmortizedAdaSmooth(0.5; use_rejection=true); nparticles=1_000, nruns=250)"
   ]
  },
  {
   "cell_type": "code",
   "execution_count": null,
   "id": "3a9f401d-4b05-450a-9607-2f05905335e8",
   "metadata": {},
   "outputs": [],
   "source": [
    "@report_opt skip_noncompileable_calls=false compute_score(DiscreteCox(), data, AmortizedAdaSmooth(0.5; use_rejection=false); nparticles=1_000, nruns=250)"
   ]
  },
  {
   "cell_type": "code",
   "execution_count": null,
   "id": "153ca61c-68ee-4bcd-a3f1-928a77ca76db",
   "metadata": {},
   "outputs": [],
   "source": [
    "@report_opt skip_noncompileable_calls=false compute_score(DiscreteCox(), data, AmortizedAdaSmooth(0.5; use_rejection=true), Val(true); nparticles=1_000, nruns=250)"
   ]
  },
  {
   "cell_type": "code",
   "execution_count": null,
   "id": "ba8ae200-1ea7-4d04-bc22-37d71ceaedb6",
   "metadata": {},
   "outputs": [],
   "source": [
    "@report_opt skip_noncompileable_calls=false compute_score(DiscreteCox(), data, AmortizedAdaSmooth(0.5; use_rejection=false), Val(true); nparticles=1_000, nruns=250)"
   ]
  }
 ],
 "metadata": {
  "@webio": {
   "lastCommId": "5775548e-8e3c-4423-8592-36f1f48b42d3",
   "lastKernelId": "c2e92fd2-30fa-41d7-935f-946eeb9d24b8"
  },
  "kernelspec": {
   "display_name": "Julia (threaded)",
   "language": "julia",
   "name": "julia-threaded"
  },
  "language_info": {
   "file_extension": ".jl",
   "mimetype": "application/julia",
   "name": "julia",
   "version": "1.8.3"
  }
 },
 "nbformat": 4,
 "nbformat_minor": 5
}
