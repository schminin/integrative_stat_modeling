{
 "cells": [
  {
   "cell_type": "markdown",
   "id": "6a9050a7",
   "metadata": {},
   "source": [
    "## ToDo's\n",
    "* get case counts for cities of wastewater not whole district\n",
    "* normalization w.r.t rain/etc. here not really available"
   ]
  },
  {
   "cell_type": "code",
   "execution_count": 1,
   "id": "ce9dd62e",
   "metadata": {},
   "outputs": [],
   "source": [
    "import pandas as pd\n",
    "import numpy as np\n",
    "import matplotlib.pyplot as plt\n",
    "import seaborn as sns"
   ]
  },
  {
   "cell_type": "markdown",
   "id": "33528573",
   "metadata": {},
   "source": [
    "## Load Data"
   ]
  },
  {
   "cell_type": "markdown",
   "id": "0c57e153",
   "metadata": {},
   "source": [
    "### case data"
   ]
  },
  {
   "cell_type": "code",
   "execution_count": 2,
   "id": "c7b4718b",
   "metadata": {},
   "outputs": [],
   "source": [
    "data_path = \"../data/canada/covid19-download.csv\"\n",
    "dictionary_path = \"../data/canada/covid19-casesdeaths-data-dictionary.csv\"\n",
    "df_cases = pd.read_csv(data_path)\n",
    "dictionary_cases = pd.read_csv(dictionary_path)"
   ]
  },
  {
   "cell_type": "code",
   "execution_count": 3,
   "id": "264941db",
   "metadata": {},
   "outputs": [
    {
     "data": {
      "text/plain": [
       "Index(['pruid', 'prname', 'prnameFR', 'date', 'reporting_week',\n",
       "       'reporting_year', 'update', 'totalcases', 'numtotal_last7',\n",
       "       'ratecases_total', 'numdeaths', 'numdeaths_last7', 'ratedeaths',\n",
       "       'ratecases_last7', 'ratedeaths_last7', 'numtotal_last14',\n",
       "       'numdeaths_last14', 'ratetotal_last14', 'ratedeaths_last14',\n",
       "       'avgcases_last7', 'avgincidence_last7', 'avgdeaths_last7',\n",
       "       'avgratedeaths_last7'],\n",
       "      dtype='object')"
      ]
     },
     "execution_count": 3,
     "metadata": {},
     "output_type": "execute_result"
    }
   ],
   "source": [
    "df_cases.columns"
   ]
  },
  {
   "cell_type": "markdown",
   "id": "555848d7",
   "metadata": {},
   "source": [
    "* pruid, prname, prnameFR: Names & identifiers\n",
    "* date, reporting_week, reporting year\n",
    "* update: Indicates if the jurisdiction reported an update that week for any indicator (1=yes 0=no)\n",
    "* totalcases: The total number of cases reported from January 2020 until the end of the reporting week in a jurisdiction. \n",
    "* numtotal_last7: Total number of cases during the reporting week for a jurisdiction, minus the total number of cases from that jurisdiction's previous week's update.\n",
    "* ratecases: Case rate per 100,000 population"
   ]
  },
  {
   "cell_type": "code",
   "execution_count": 4,
   "id": "4cbed7b6",
   "metadata": {},
   "outputs": [
    {
     "data": {
      "text/html": [
       "<div>\n",
       "<style scoped>\n",
       "    .dataframe tbody tr th:only-of-type {\n",
       "        vertical-align: middle;\n",
       "    }\n",
       "\n",
       "    .dataframe tbody tr th {\n",
       "        vertical-align: top;\n",
       "    }\n",
       "\n",
       "    .dataframe thead th {\n",
       "        text-align: right;\n",
       "    }\n",
       "</style>\n",
       "<table border=\"1\" class=\"dataframe\">\n",
       "  <thead>\n",
       "    <tr style=\"text-align: right;\">\n",
       "      <th></th>\n",
       "      <th>pruid</th>\n",
       "      <th>prname</th>\n",
       "      <th>prnameFR</th>\n",
       "    </tr>\n",
       "  </thead>\n",
       "  <tbody>\n",
       "    <tr>\n",
       "      <th>0</th>\n",
       "      <td>59</td>\n",
       "      <td>British Columbia</td>\n",
       "      <td>Colombie-Britannique</td>\n",
       "    </tr>\n",
       "    <tr>\n",
       "      <th>1</th>\n",
       "      <td>48</td>\n",
       "      <td>Alberta</td>\n",
       "      <td>Alberta</td>\n",
       "    </tr>\n",
       "    <tr>\n",
       "      <th>2</th>\n",
       "      <td>47</td>\n",
       "      <td>Saskatchewan</td>\n",
       "      <td>Saskatchewan</td>\n",
       "    </tr>\n",
       "    <tr>\n",
       "      <th>3</th>\n",
       "      <td>46</td>\n",
       "      <td>Manitoba</td>\n",
       "      <td>Manitoba</td>\n",
       "    </tr>\n",
       "    <tr>\n",
       "      <th>4</th>\n",
       "      <td>35</td>\n",
       "      <td>Ontario</td>\n",
       "      <td>Ontario</td>\n",
       "    </tr>\n",
       "    <tr>\n",
       "      <th>5</th>\n",
       "      <td>24</td>\n",
       "      <td>Quebec</td>\n",
       "      <td>Québec</td>\n",
       "    </tr>\n",
       "    <tr>\n",
       "      <th>6</th>\n",
       "      <td>10</td>\n",
       "      <td>Newfoundland and Labrador</td>\n",
       "      <td>Terre-Neuve-et-Labrador</td>\n",
       "    </tr>\n",
       "    <tr>\n",
       "      <th>7</th>\n",
       "      <td>13</td>\n",
       "      <td>New Brunswick</td>\n",
       "      <td>Nouveau-Brunswick</td>\n",
       "    </tr>\n",
       "    <tr>\n",
       "      <th>8</th>\n",
       "      <td>12</td>\n",
       "      <td>Nova Scotia</td>\n",
       "      <td>Nouvelle-Écosse</td>\n",
       "    </tr>\n",
       "    <tr>\n",
       "      <th>9</th>\n",
       "      <td>11</td>\n",
       "      <td>Prince Edward Island</td>\n",
       "      <td>Île-du-Prince-Édouard</td>\n",
       "    </tr>\n",
       "    <tr>\n",
       "      <th>10</th>\n",
       "      <td>60</td>\n",
       "      <td>Yukon</td>\n",
       "      <td>Yukon</td>\n",
       "    </tr>\n",
       "    <tr>\n",
       "      <th>11</th>\n",
       "      <td>61</td>\n",
       "      <td>Northwest Territories</td>\n",
       "      <td>Territoires du Nord-Ouest</td>\n",
       "    </tr>\n",
       "    <tr>\n",
       "      <th>12</th>\n",
       "      <td>62</td>\n",
       "      <td>Nunavut</td>\n",
       "      <td>Nunavut</td>\n",
       "    </tr>\n",
       "    <tr>\n",
       "      <th>13</th>\n",
       "      <td>99</td>\n",
       "      <td>Repatriated travellers</td>\n",
       "      <td>Voyageurs rapatriés</td>\n",
       "    </tr>\n",
       "    <tr>\n",
       "      <th>14</th>\n",
       "      <td>1</td>\n",
       "      <td>Canada</td>\n",
       "      <td>Canada</td>\n",
       "    </tr>\n",
       "  </tbody>\n",
       "</table>\n",
       "</div>"
      ],
      "text/plain": [
       "    pruid                     prname                   prnameFR\n",
       "0      59           British Columbia       Colombie-Britannique\n",
       "1      48                    Alberta                    Alberta\n",
       "2      47               Saskatchewan               Saskatchewan\n",
       "3      46                   Manitoba                   Manitoba\n",
       "4      35                    Ontario                    Ontario\n",
       "5      24                     Quebec                     Québec\n",
       "6      10  Newfoundland and Labrador    Terre-Neuve-et-Labrador\n",
       "7      13              New Brunswick          Nouveau-Brunswick\n",
       "8      12                Nova Scotia            Nouvelle-Écosse\n",
       "9      11       Prince Edward Island      Île-du-Prince-Édouard\n",
       "10     60                      Yukon                      Yukon\n",
       "11     61      Northwest Territories  Territoires du Nord-Ouest\n",
       "12     62                    Nunavut                    Nunavut\n",
       "13     99     Repatriated travellers        Voyageurs rapatriés\n",
       "14      1                     Canada                     Canada"
      ]
     },
     "execution_count": 4,
     "metadata": {},
     "output_type": "execute_result"
    }
   ],
   "source": [
    "df_cases[[\"pruid\", \"prname\",\"prnameFR\"]].drop_duplicates()"
   ]
  },
  {
   "cell_type": "code",
   "execution_count": 5,
   "id": "9bcf9ad5",
   "metadata": {},
   "outputs": [
    {
     "data": {
      "text/plain": [
       "count           2685\n",
       "unique           179\n",
       "top       2020-02-01\n",
       "freq              15\n",
       "Name: date, dtype: object"
      ]
     },
     "execution_count": 5,
     "metadata": {},
     "output_type": "execute_result"
    }
   ],
   "source": [
    "df_cases[\"date\"].describe()"
   ]
  },
  {
   "cell_type": "markdown",
   "id": "090f5dac",
   "metadata": {},
   "source": [
    "### Wastewater data"
   ]
  },
  {
   "cell_type": "code",
   "execution_count": 6,
   "id": "5e0f30ca",
   "metadata": {},
   "outputs": [],
   "source": [
    "data_path = \"../data/canada/covid19-wastewater.csv\"\n",
    "dictionary_path = \"../data/canada/covid19-wastewater-data-dictionary-en.csv\"\n",
    "df_wastewater = pd.read_csv(data_path)\n",
    "dictionary_wastewater = pd.read_csv(dictionary_path)"
   ]
  },
  {
   "cell_type": "code",
   "execution_count": 9,
   "id": "779fa567",
   "metadata": {},
   "outputs": [
    {
     "data": {
      "text/html": [
       "<div>\n",
       "<style scoped>\n",
       "    .dataframe tbody tr th:only-of-type {\n",
       "        vertical-align: middle;\n",
       "    }\n",
       "\n",
       "    .dataframe tbody tr th {\n",
       "        vertical-align: top;\n",
       "    }\n",
       "\n",
       "    .dataframe thead th {\n",
       "        text-align: right;\n",
       "    }\n",
       "</style>\n",
       "<table border=\"1\" class=\"dataframe\">\n",
       "  <thead>\n",
       "    <tr style=\"text-align: right;\">\n",
       "      <th></th>\n",
       "      <th>region</th>\n",
       "      <th>pruid</th>\n",
       "    </tr>\n",
       "  </thead>\n",
       "  <tbody>\n",
       "    <tr>\n",
       "      <th>0</th>\n",
       "      <td>Montreal</td>\n",
       "      <td>24</td>\n",
       "    </tr>\n",
       "    <tr>\n",
       "      <th>2</th>\n",
       "      <td>North Battleford</td>\n",
       "      <td>47</td>\n",
       "    </tr>\n",
       "    <tr>\n",
       "      <th>471</th>\n",
       "      <td>Prince Albert</td>\n",
       "      <td>47</td>\n",
       "    </tr>\n",
       "    <tr>\n",
       "      <th>741</th>\n",
       "      <td>Saskatoon</td>\n",
       "      <td>47</td>\n",
       "    </tr>\n",
       "    <tr>\n",
       "      <th>1079</th>\n",
       "      <td>Alberton</td>\n",
       "      <td>11</td>\n",
       "    </tr>\n",
       "    <tr>\n",
       "      <th>1370</th>\n",
       "      <td>Vancouver</td>\n",
       "      <td>59</td>\n",
       "    </tr>\n",
       "    <tr>\n",
       "      <th>1626</th>\n",
       "      <td>Regina</td>\n",
       "      <td>47</td>\n",
       "    </tr>\n",
       "    <tr>\n",
       "      <th>1821</th>\n",
       "      <td>Bathurst</td>\n",
       "      <td>13</td>\n",
       "    </tr>\n",
       "    <tr>\n",
       "      <th>1875</th>\n",
       "      <td>Battery Point</td>\n",
       "      <td>12</td>\n",
       "    </tr>\n",
       "    <tr>\n",
       "      <th>1985</th>\n",
       "      <td>St. John's</td>\n",
       "      <td>10</td>\n",
       "    </tr>\n",
       "    <tr>\n",
       "      <th>2168</th>\n",
       "      <td>Souris</td>\n",
       "      <td>11</td>\n",
       "    </tr>\n",
       "    <tr>\n",
       "      <th>2468</th>\n",
       "      <td>Brandon</td>\n",
       "      <td>46</td>\n",
       "    </tr>\n",
       "    <tr>\n",
       "      <th>2821</th>\n",
       "      <td>Bridgewater</td>\n",
       "      <td>12</td>\n",
       "    </tr>\n",
       "    <tr>\n",
       "      <th>2891</th>\n",
       "      <td>Campbellton</td>\n",
       "      <td>13</td>\n",
       "    </tr>\n",
       "    <tr>\n",
       "      <th>2931</th>\n",
       "      <td>Summerside</td>\n",
       "      <td>11</td>\n",
       "    </tr>\n",
       "    <tr>\n",
       "      <th>3043</th>\n",
       "      <td>Fredericton</td>\n",
       "      <td>13</td>\n",
       "    </tr>\n",
       "    <tr>\n",
       "      <th>3095</th>\n",
       "      <td>Winnipeg</td>\n",
       "      <td>46</td>\n",
       "    </tr>\n",
       "    <tr>\n",
       "      <th>3165</th>\n",
       "      <td>City of Charlottetown &amp; Town of Stratford</td>\n",
       "      <td>11</td>\n",
       "    </tr>\n",
       "    <tr>\n",
       "      <th>3761</th>\n",
       "      <td>Toronto</td>\n",
       "      <td>35</td>\n",
       "    </tr>\n",
       "    <tr>\n",
       "      <th>4051</th>\n",
       "      <td>Haines Junction</td>\n",
       "      <td>60</td>\n",
       "    </tr>\n",
       "    <tr>\n",
       "      <th>5557</th>\n",
       "      <td>Halifax</td>\n",
       "      <td>12</td>\n",
       "    </tr>\n",
       "    <tr>\n",
       "      <th>5581</th>\n",
       "      <td>Trenton</td>\n",
       "      <td>12</td>\n",
       "    </tr>\n",
       "    <tr>\n",
       "      <th>7319</th>\n",
       "      <td>Dominion-Bridgeport</td>\n",
       "      <td>12</td>\n",
       "    </tr>\n",
       "    <tr>\n",
       "      <th>7659</th>\n",
       "      <td>Edmonton</td>\n",
       "      <td>48</td>\n",
       "    </tr>\n",
       "    <tr>\n",
       "      <th>7912</th>\n",
       "      <td>Miramichi</td>\n",
       "      <td>13</td>\n",
       "    </tr>\n",
       "    <tr>\n",
       "      <th>7950</th>\n",
       "      <td>Moncton</td>\n",
       "      <td>13</td>\n",
       "    </tr>\n",
       "    <tr>\n",
       "      <th>8052</th>\n",
       "      <td>Montague</td>\n",
       "      <td>11</td>\n",
       "    </tr>\n",
       "  </tbody>\n",
       "</table>\n",
       "</div>"
      ],
      "text/plain": [
       "                                         region  pruid\n",
       "0                                      Montreal     24\n",
       "2                              North Battleford     47\n",
       "471                               Prince Albert     47\n",
       "741                                   Saskatoon     47\n",
       "1079                                   Alberton     11\n",
       "1370                                  Vancouver     59\n",
       "1626                                     Regina     47\n",
       "1821                                   Bathurst     13\n",
       "1875                              Battery Point     12\n",
       "1985                                 St. John's     10\n",
       "2168                                     Souris     11\n",
       "2468                                    Brandon     46\n",
       "2821                                Bridgewater     12\n",
       "2891                                Campbellton     13\n",
       "2931                                 Summerside     11\n",
       "3043                                Fredericton     13\n",
       "3095                                   Winnipeg     46\n",
       "3165  City of Charlottetown & Town of Stratford     11\n",
       "3761                                    Toronto     35\n",
       "4051                            Haines Junction     60\n",
       "5557                                    Halifax     12\n",
       "5581                                    Trenton     12\n",
       "7319                        Dominion-Bridgeport     12\n",
       "7659                                   Edmonton     48\n",
       "7912                                  Miramichi     13\n",
       "7950                                    Moncton     13\n",
       "8052                                   Montague     11"
      ]
     },
     "execution_count": 9,
     "metadata": {},
     "output_type": "execute_result"
    }
   ],
   "source": [
    "df_wastewater[[\"region\", \"pruid\"]].drop_duplicates()"
   ]
  },
  {
   "cell_type": "code",
   "execution_count": 15,
   "id": "005b1916",
   "metadata": {},
   "outputs": [
    {
     "data": {
      "text/plain": [
       "region\n",
       "Alberton                                     2022-11-02\n",
       "Bathurst                                     2023-02-03\n",
       "Battery Point                                2023-01-13\n",
       "Brandon                                      2022-05-27\n",
       "Bridgewater                                  2023-01-05\n",
       "Campbellton                                  2023-02-10\n",
       "City of Charlottetown & Town of Stratford    2022-05-05\n",
       "Dominion-Bridgeport                          2023-01-19\n",
       "Edmonton                                     2021-02-09\n",
       "Fredericton                                  2022-12-22\n",
       "Haines Junction                              2022-06-16\n",
       "Halifax                                      2020-11-12\n",
       "Miramichi                                    2023-02-16\n",
       "Moncton                                      2022-06-13\n",
       "Montague                                     2022-11-23\n",
       "Montreal                                     2020-10-29\n",
       "North Battleford                             2021-08-04\n",
       "Prince Albert                                2021-06-24\n",
       "Regina                                       2021-04-13\n",
       "Saskatoon                                    2021-03-27\n",
       "Souris                                       2022-11-23\n",
       "St. John's                                   2021-04-19\n",
       "Summerside                                   2022-05-05\n",
       "Toronto                                      2020-11-05\n",
       "Trenton                                      2022-12-30\n",
       "Vancouver                                    2020-11-06\n",
       "Winnipeg                                     2021-04-13\n",
       "Name: Date, dtype: object"
      ]
     },
     "execution_count": 15,
     "metadata": {},
     "output_type": "execute_result"
    }
   ],
   "source": [
    "df_wastewater.groupby([\"region\"]).min()[\"Date\"]"
   ]
  },
  {
   "cell_type": "code",
   "execution_count": 36,
   "id": "d2520490",
   "metadata": {},
   "outputs": [
    {
     "data": {
      "text/plain": [
       "array(['covN2'], dtype=object)"
      ]
     },
     "execution_count": 36,
     "metadata": {},
     "output_type": "execute_result"
    }
   ],
   "source": [
    "df_wastewater[\"measureid\"].unique() # only N2 gene detected using RT-qPCR"
   ]
  },
  {
   "cell_type": "code",
   "execution_count": 40,
   "id": "19f101b0",
   "metadata": {},
   "outputs": [
    {
     "data": {
      "text/plain": [
       "array(['solid', 'mixed'], dtype=object)"
      ]
     },
     "execution_count": 40,
     "metadata": {},
     "output_type": "execute_result"
    }
   ],
   "source": [
    "df_wastewater[\"fractionid\"].unique()"
   ]
  },
  {
   "cell_type": "code",
   "execution_count": 38,
   "id": "d4a2e3a1",
   "metadata": {},
   "outputs": [
    {
     "data": {
      "text/html": [
       "<div>\n",
       "<style scoped>\n",
       "    .dataframe tbody tr th:only-of-type {\n",
       "        vertical-align: middle;\n",
       "    }\n",
       "\n",
       "    .dataframe tbody tr th {\n",
       "        vertical-align: top;\n",
       "    }\n",
       "\n",
       "    .dataframe thead th {\n",
       "        text-align: right;\n",
       "    }\n",
       "</style>\n",
       "<table border=\"1\" class=\"dataframe\">\n",
       "  <thead>\n",
       "    <tr style=\"text-align: right;\">\n",
       "      <th></th>\n",
       "      <th>Date</th>\n",
       "      <th>Location</th>\n",
       "      <th>region</th>\n",
       "      <th>measureid</th>\n",
       "      <th>fractionid</th>\n",
       "      <th>viral_load</th>\n",
       "      <th>seven_day_rolling_avg</th>\n",
       "      <th>pruid</th>\n",
       "    </tr>\n",
       "  </thead>\n",
       "  <tbody>\n",
       "    <tr>\n",
       "      <th>0</th>\n",
       "      <td>2021-12-08</td>\n",
       "      <td>Montreal North</td>\n",
       "      <td>Montreal</td>\n",
       "      <td>covN2</td>\n",
       "      <td>solid</td>\n",
       "      <td>116.061020</td>\n",
       "      <td>75.756258</td>\n",
       "      <td>24</td>\n",
       "    </tr>\n",
       "    <tr>\n",
       "      <th>1</th>\n",
       "      <td>2021-12-11</td>\n",
       "      <td>Montreal North</td>\n",
       "      <td>Montreal</td>\n",
       "      <td>covN2</td>\n",
       "      <td>solid</td>\n",
       "      <td>33.467815</td>\n",
       "      <td>74.764417</td>\n",
       "      <td>24</td>\n",
       "    </tr>\n",
       "    <tr>\n",
       "      <th>2</th>\n",
       "      <td>2021-08-04</td>\n",
       "      <td>North Battleford</td>\n",
       "      <td>North Battleford</td>\n",
       "      <td>covN2</td>\n",
       "      <td>mixed</td>\n",
       "      <td>0.870000</td>\n",
       "      <td>0.870000</td>\n",
       "      <td>47</td>\n",
       "    </tr>\n",
       "    <tr>\n",
       "      <th>3</th>\n",
       "      <td>2021-08-06</td>\n",
       "      <td>North Battleford</td>\n",
       "      <td>North Battleford</td>\n",
       "      <td>covN2</td>\n",
       "      <td>mixed</td>\n",
       "      <td>0.000000</td>\n",
       "      <td>0.435000</td>\n",
       "      <td>47</td>\n",
       "    </tr>\n",
       "    <tr>\n",
       "      <th>4</th>\n",
       "      <td>2021-12-15</td>\n",
       "      <td>Montreal North</td>\n",
       "      <td>Montreal</td>\n",
       "      <td>covN2</td>\n",
       "      <td>solid</td>\n",
       "      <td>58.932050</td>\n",
       "      <td>46.199933</td>\n",
       "      <td>24</td>\n",
       "    </tr>\n",
       "    <tr>\n",
       "      <th>...</th>\n",
       "      <td>...</td>\n",
       "      <td>...</td>\n",
       "      <td>...</td>\n",
       "      <td>...</td>\n",
       "      <td>...</td>\n",
       "      <td>...</td>\n",
       "      <td>...</td>\n",
       "      <td>...</td>\n",
       "    </tr>\n",
       "    <tr>\n",
       "      <th>8239</th>\n",
       "      <td>2021-11-20</td>\n",
       "      <td>Montreal North</td>\n",
       "      <td>Montreal</td>\n",
       "      <td>covN2</td>\n",
       "      <td>solid</td>\n",
       "      <td>10.380760</td>\n",
       "      <td>9.385953</td>\n",
       "      <td>24</td>\n",
       "    </tr>\n",
       "    <tr>\n",
       "      <th>8240</th>\n",
       "      <td>2021-11-24</td>\n",
       "      <td>Montreal North</td>\n",
       "      <td>Montreal</td>\n",
       "      <td>covN2</td>\n",
       "      <td>solid</td>\n",
       "      <td>13.888690</td>\n",
       "      <td>12.134725</td>\n",
       "      <td>24</td>\n",
       "    </tr>\n",
       "    <tr>\n",
       "      <th>8241</th>\n",
       "      <td>2021-11-27</td>\n",
       "      <td>Montreal North</td>\n",
       "      <td>Montreal</td>\n",
       "      <td>covN2</td>\n",
       "      <td>solid</td>\n",
       "      <td>14.028650</td>\n",
       "      <td>13.958670</td>\n",
       "      <td>24</td>\n",
       "    </tr>\n",
       "    <tr>\n",
       "      <th>8242</th>\n",
       "      <td>2021-12-01</td>\n",
       "      <td>Montreal North</td>\n",
       "      <td>Montreal</td>\n",
       "      <td>covN2</td>\n",
       "      <td>solid</td>\n",
       "      <td>32.346215</td>\n",
       "      <td>23.187432</td>\n",
       "      <td>24</td>\n",
       "    </tr>\n",
       "    <tr>\n",
       "      <th>8243</th>\n",
       "      <td>2021-12-04</td>\n",
       "      <td>Montreal North</td>\n",
       "      <td>Montreal</td>\n",
       "      <td>covN2</td>\n",
       "      <td>solid</td>\n",
       "      <td>35.451495</td>\n",
       "      <td>33.898855</td>\n",
       "      <td>24</td>\n",
       "    </tr>\n",
       "  </tbody>\n",
       "</table>\n",
       "<p>8244 rows × 8 columns</p>\n",
       "</div>"
      ],
      "text/plain": [
       "            Date          Location            region measureid fractionid  \\\n",
       "0     2021-12-08    Montreal North          Montreal     covN2      solid   \n",
       "1     2021-12-11    Montreal North          Montreal     covN2      solid   \n",
       "2     2021-08-04  North Battleford  North Battleford     covN2      mixed   \n",
       "3     2021-08-06  North Battleford  North Battleford     covN2      mixed   \n",
       "4     2021-12-15    Montreal North          Montreal     covN2      solid   \n",
       "...          ...               ...               ...       ...        ...   \n",
       "8239  2021-11-20    Montreal North          Montreal     covN2      solid   \n",
       "8240  2021-11-24    Montreal North          Montreal     covN2      solid   \n",
       "8241  2021-11-27    Montreal North          Montreal     covN2      solid   \n",
       "8242  2021-12-01    Montreal North          Montreal     covN2      solid   \n",
       "8243  2021-12-04    Montreal North          Montreal     covN2      solid   \n",
       "\n",
       "      viral_load  seven_day_rolling_avg  pruid  \n",
       "0     116.061020              75.756258     24  \n",
       "1      33.467815              74.764417     24  \n",
       "2       0.870000               0.870000     47  \n",
       "3       0.000000               0.435000     47  \n",
       "4      58.932050              46.199933     24  \n",
       "...          ...                    ...    ...  \n",
       "8239   10.380760               9.385953     24  \n",
       "8240   13.888690              12.134725     24  \n",
       "8241   14.028650              13.958670     24  \n",
       "8242   32.346215              23.187432     24  \n",
       "8243   35.451495              33.898855     24  \n",
       "\n",
       "[8244 rows x 8 columns]"
      ]
     },
     "execution_count": 38,
     "metadata": {},
     "output_type": "execute_result"
    }
   ],
   "source": [
    "df_wastewater"
   ]
  },
  {
   "cell_type": "code",
   "execution_count": 35,
   "id": "800ae03f",
   "metadata": {},
   "outputs": [
    {
     "data": {
      "text/html": [
       "<div>\n",
       "<style scoped>\n",
       "    .dataframe tbody tr th:only-of-type {\n",
       "        vertical-align: middle;\n",
       "    }\n",
       "\n",
       "    .dataframe tbody tr th {\n",
       "        vertical-align: top;\n",
       "    }\n",
       "\n",
       "    .dataframe thead th {\n",
       "        text-align: right;\n",
       "    }\n",
       "</style>\n",
       "<table border=\"1\" class=\"dataframe\">\n",
       "  <thead>\n",
       "    <tr style=\"text-align: right;\">\n",
       "      <th></th>\n",
       "      <th>variable</th>\n",
       "      <th>description</th>\n",
       "    </tr>\n",
       "  </thead>\n",
       "  <tbody>\n",
       "    <tr>\n",
       "      <th>0</th>\n",
       "      <td>fractionid</td>\n",
       "      <td>Part of the wastewater sample being tested, ei...</td>\n",
       "    </tr>\n",
       "    <tr>\n",
       "      <th>1</th>\n",
       "      <td>region</td>\n",
       "      <td>City or region of the city from where wastewat...</td>\n",
       "    </tr>\n",
       "    <tr>\n",
       "      <th>2</th>\n",
       "      <td>pruid</td>\n",
       "      <td>Unique province or territory identifier.</td>\n",
       "    </tr>\n",
       "    <tr>\n",
       "      <th>3</th>\n",
       "      <td>Location</td>\n",
       "      <td>City and wastewater treatment plant location.</td>\n",
       "    </tr>\n",
       "    <tr>\n",
       "      <th>4</th>\n",
       "      <td>measureID</td>\n",
       "      <td>Detection of N1 or N2 Gene of SARS-CoV-2 using...</td>\n",
       "    </tr>\n",
       "    <tr>\n",
       "      <th>5</th>\n",
       "      <td>LatestTrend</td>\n",
       "      <td>Describes if the trend over the past 5 weeks i...</td>\n",
       "    </tr>\n",
       "    <tr>\n",
       "      <th>6</th>\n",
       "      <td>seven_day_rolling_avg</td>\n",
       "      <td>Current 7 day-rolling average of the viral loa...</td>\n",
       "    </tr>\n",
       "    <tr>\n",
       "      <th>7</th>\n",
       "      <td>viral_load</td>\n",
       "      <td>Amount of SARS-CoV-2 genetic material present ...</td>\n",
       "    </tr>\n",
       "  </tbody>\n",
       "</table>\n",
       "</div>"
      ],
      "text/plain": [
       "                variable                                        description\n",
       "0             fractionid  Part of the wastewater sample being tested, ei...\n",
       "1                 region  City or region of the city from where wastewat...\n",
       "2                  pruid           Unique province or territory identifier.\n",
       "3               Location      City and wastewater treatment plant location.\n",
       "4              measureID  Detection of N1 or N2 Gene of SARS-CoV-2 using...\n",
       "5            LatestTrend  Describes if the trend over the past 5 weeks i...\n",
       "6  seven_day_rolling_avg  Current 7 day-rolling average of the viral loa...\n",
       "7             viral_load  Amount of SARS-CoV-2 genetic material present ..."
      ]
     },
     "execution_count": 35,
     "metadata": {},
     "output_type": "execute_result"
    }
   ],
   "source": [
    "dictionary_wastewater"
   ]
  },
  {
   "cell_type": "code",
   "execution_count": 47,
   "id": "f4912cc6",
   "metadata": {},
   "outputs": [
    {
     "data": {
      "text/plain": [
       "array(['Montreal North', 'North Battleford', 'Prince Albert', 'Saskatoon',\n",
       "       'Alberton', 'Montreal South', 'Vancouver Lions Gate', 'Regina',\n",
       "       'Bathurst', 'Battery Point', 'Vancouver Lulu Island', \"St. John's\",\n",
       "       'Souris', 'Brandon', 'Vancouver Northwest Langley', 'Bridgewater',\n",
       "       'Campbellton', 'Summerside', 'Fredericton', 'Winnipeg North End',\n",
       "       'City of Charlottetown & Town of Stratford',\n",
       "       'Toronto Ashbridges Bay', 'Haines Junction',\n",
       "       'Toronto Highland Creek', 'Winnipeg South End',\n",
       "       'Winnipeg West End', 'Toronto Humber', 'Toronto North Toronto',\n",
       "       'Halifax Dartmouth', 'Trenton', 'Vancouver Annacis Island',\n",
       "       'Halifax Halifax', 'Vancouver Iona Island', 'Dominion-Bridgeport',\n",
       "       'Halifax Millcove', 'Edmonton Goldbar', 'Miramichi', 'Moncton',\n",
       "       'Montague'], dtype=object)"
      ]
     },
     "execution_count": 47,
     "metadata": {},
     "output_type": "execute_result"
    }
   ],
   "source": [
    "df_wastewater[\"Location\"].unique()"
   ]
  },
  {
   "cell_type": "code",
   "execution_count": 46,
   "id": "4f4b5595",
   "metadata": {},
   "outputs": [
    {
     "data": {
      "text/plain": [
       "0       116.061020\n",
       "1        33.467815\n",
       "2         0.870000\n",
       "3         0.000000\n",
       "4        58.932050\n",
       "           ...    \n",
       "8239     10.380760\n",
       "8240     13.888690\n",
       "8241     14.028650\n",
       "8242     32.346215\n",
       "8243     35.451495\n",
       "Name: viral_load, Length: 8244, dtype: float64"
      ]
     },
     "execution_count": 46,
     "metadata": {},
     "output_type": "execute_result"
    }
   ],
   "source": [
    "df_wastewater[\"viral_load\"]"
   ]
  },
  {
   "cell_type": "markdown",
   "id": "c612d4ff",
   "metadata": {},
   "source": [
    "## Visualize"
   ]
  },
  {
   "cell_type": "code",
   "execution_count": 54,
   "id": "06fa520f",
   "metadata": {},
   "outputs": [],
   "source": [
    "df_cases[\"date\"] = pd.to_datetime(df_cases[\"date\"])\n",
    "df_wastewater[\"Date\"] = pd.to_datetime(df_wastewater[\"Date\"])"
   ]
  },
  {
   "cell_type": "code",
   "execution_count": 24,
   "id": "6ea7cdc8",
   "metadata": {},
   "outputs": [],
   "source": [
    "prname = \"Alberta\"\n",
    "df_sub = df_cases[df_cases[\"prname\"]==\"Alberta\"]"
   ]
  },
  {
   "cell_type": "code",
   "execution_count": 25,
   "id": "d041c708",
   "metadata": {},
   "outputs": [
    {
     "data": {
      "text/html": [
       "<div>\n",
       "<style scoped>\n",
       "    .dataframe tbody tr th:only-of-type {\n",
       "        vertical-align: middle;\n",
       "    }\n",
       "\n",
       "    .dataframe tbody tr th {\n",
       "        vertical-align: top;\n",
       "    }\n",
       "\n",
       "    .dataframe thead th {\n",
       "        text-align: right;\n",
       "    }\n",
       "</style>\n",
       "<table border=\"1\" class=\"dataframe\">\n",
       "  <thead>\n",
       "    <tr style=\"text-align: right;\">\n",
       "      <th></th>\n",
       "      <th>date</th>\n",
       "      <th>totalcases</th>\n",
       "      <th>numtotal_last7</th>\n",
       "      <th>numdeaths</th>\n",
       "      <th>numdeaths_last7</th>\n",
       "    </tr>\n",
       "  </thead>\n",
       "  <tbody>\n",
       "    <tr>\n",
       "      <th>1</th>\n",
       "      <td>2020-02-01</td>\n",
       "      <td>0</td>\n",
       "      <td>0.0</td>\n",
       "      <td>0</td>\n",
       "      <td>0.0</td>\n",
       "    </tr>\n",
       "    <tr>\n",
       "      <th>16</th>\n",
       "      <td>2020-02-08</td>\n",
       "      <td>0</td>\n",
       "      <td>0.0</td>\n",
       "      <td>0</td>\n",
       "      <td>0.0</td>\n",
       "    </tr>\n",
       "    <tr>\n",
       "      <th>31</th>\n",
       "      <td>2020-02-15</td>\n",
       "      <td>0</td>\n",
       "      <td>0.0</td>\n",
       "      <td>0</td>\n",
       "      <td>0.0</td>\n",
       "    </tr>\n",
       "    <tr>\n",
       "      <th>46</th>\n",
       "      <td>2020-02-22</td>\n",
       "      <td>0</td>\n",
       "      <td>0.0</td>\n",
       "      <td>0</td>\n",
       "      <td>0.0</td>\n",
       "    </tr>\n",
       "    <tr>\n",
       "      <th>61</th>\n",
       "      <td>2020-02-29</td>\n",
       "      <td>0</td>\n",
       "      <td>0.0</td>\n",
       "      <td>0</td>\n",
       "      <td>0.0</td>\n",
       "    </tr>\n",
       "    <tr>\n",
       "      <th>...</th>\n",
       "      <td>...</td>\n",
       "      <td>...</td>\n",
       "      <td>...</td>\n",
       "      <td>...</td>\n",
       "      <td>...</td>\n",
       "    </tr>\n",
       "    <tr>\n",
       "      <th>2611</th>\n",
       "      <td>2023-06-03</td>\n",
       "      <td>633477</td>\n",
       "      <td>191.0</td>\n",
       "      <td>5791</td>\n",
       "      <td>13.0</td>\n",
       "    </tr>\n",
       "    <tr>\n",
       "      <th>2626</th>\n",
       "      <td>2023-06-10</td>\n",
       "      <td>633601</td>\n",
       "      <td>124.0</td>\n",
       "      <td>5801</td>\n",
       "      <td>10.0</td>\n",
       "    </tr>\n",
       "    <tr>\n",
       "      <th>2641</th>\n",
       "      <td>2023-06-17</td>\n",
       "      <td>633693</td>\n",
       "      <td>92.0</td>\n",
       "      <td>5803</td>\n",
       "      <td>2.0</td>\n",
       "    </tr>\n",
       "    <tr>\n",
       "      <th>2656</th>\n",
       "      <td>2023-06-24</td>\n",
       "      <td>633781</td>\n",
       "      <td>88.0</td>\n",
       "      <td>5803</td>\n",
       "      <td>0.0</td>\n",
       "    </tr>\n",
       "    <tr>\n",
       "      <th>2671</th>\n",
       "      <td>2023-07-01</td>\n",
       "      <td>633802</td>\n",
       "      <td>NaN</td>\n",
       "      <td>5803</td>\n",
       "      <td>NaN</td>\n",
       "    </tr>\n",
       "  </tbody>\n",
       "</table>\n",
       "<p>179 rows × 5 columns</p>\n",
       "</div>"
      ],
      "text/plain": [
       "           date  totalcases  numtotal_last7  numdeaths  numdeaths_last7\n",
       "1    2020-02-01           0             0.0          0              0.0\n",
       "16   2020-02-08           0             0.0          0              0.0\n",
       "31   2020-02-15           0             0.0          0              0.0\n",
       "46   2020-02-22           0             0.0          0              0.0\n",
       "61   2020-02-29           0             0.0          0              0.0\n",
       "...         ...         ...             ...        ...              ...\n",
       "2611 2023-06-03      633477           191.0       5791             13.0\n",
       "2626 2023-06-10      633601           124.0       5801             10.0\n",
       "2641 2023-06-17      633693            92.0       5803              2.0\n",
       "2656 2023-06-24      633781            88.0       5803              0.0\n",
       "2671 2023-07-01      633802             NaN       5803              NaN\n",
       "\n",
       "[179 rows x 5 columns]"
      ]
     },
     "execution_count": 25,
     "metadata": {},
     "output_type": "execute_result"
    }
   ],
   "source": [
    "df_sub[[\"date\", \"totalcases\", \"numtotal_last7\", \"numdeaths\", \"numdeaths_last7\"]]"
   ]
  },
  {
   "cell_type": "code",
   "execution_count": 28,
   "id": "13c9587b",
   "metadata": {},
   "outputs": [
    {
     "data": {
      "text/plain": [
       "<AxesSubplot:xlabel='date', ylabel='numtotal_last7'>"
      ]
     },
     "execution_count": 28,
     "metadata": {},
     "output_type": "execute_result"
    },
    {
     "data": {
      "image/png": "[encoded data removed]",
      "text/plain": [
       "<Figure size 640x480 with 1 Axes>"
      ]
     },
     "metadata": {},
     "output_type": "display_data"
    }
   ],
   "source": [
    "sns.lineplot(df_sub, x='date', y=\"numtotal_last7\")"
   ]
  },
  {
   "cell_type": "code",
   "execution_count": 29,
   "id": "8e600ba2",
   "metadata": {},
   "outputs": [
    {
     "data": {
      "text/plain": [
       "<AxesSubplot:xlabel='date', ylabel='numdeaths_last7'>"
      ]
     },
     "execution_count": 29,
     "metadata": {},
     "output_type": "execute_result"
    },
    {
     "data": {
      "image/png": "[encoded data removed]",
      "text/plain": [
       "<Figure size 640x480 with 1 Axes>"
      ]
     },
     "metadata": {},
     "output_type": "display_data"
    }
   ],
   "source": [
    "sns.lineplot(df_sub, x='date', y=\"numdeaths_last7\")"
   ]
  },
  {
   "cell_type": "code",
   "execution_count": 55,
   "id": "ff07c251",
   "metadata": {},
   "outputs": [],
   "source": [
    "df_sub = df_wastewater[df_wastewater['Location']==\"Montreal North\"]"
   ]
  },
  {
   "cell_type": "code",
   "execution_count": 56,
   "id": "4b3bb83f",
   "metadata": {},
   "outputs": [
    {
     "data": {
      "text/plain": [
       "<AxesSubplot:xlabel='Date', ylabel='viral_load'>"
      ]
     },
     "execution_count": 56,
     "metadata": {},
     "output_type": "execute_result"
    },
    {
     "data": {
      "image/png": "[encoded data removed]",
      "text/plain": [
       "<Figure size 640x480 with 1 Axes>"
      ]
     },
     "metadata": {},
     "output_type": "display_data"
    }
   ],
   "source": [
    "sns.lineplot(df_sub, x='Date', y=\"viral_load\")"
   ]
  },
  {
   "cell_type": "code",
   "execution_count": null,
   "id": "8b7f9ba4",
   "metadata": {},
   "outputs": [],
   "source": []
  }
 ],
 "metadata": {
  "kernelspec": {
   "display_name": "Python 3 (ipykernel)",
   "language": "python",
   "name": "python3"
  },
  "language_info": {
   "codemirror_mode": {
    "name": "ipython",
    "version": 3
   },
   "file_extension": ".py",
   "mimetype": "text/x-python",
   "name": "python",
   "nbconvert_exporter": "python",
   "pygments_lexer": "ipython3",
   "version": "3.9.12"
  }
 },
 "nbformat": 4,
 "nbformat_minor": 5
}
