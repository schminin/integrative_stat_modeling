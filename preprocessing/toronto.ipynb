{
 "cells": [
  {
   "cell_type": "code",
   "execution_count": 1,
   "id": "2c5d815b",
   "metadata": {},
   "outputs": [],
   "source": [
    "import pandas as pd\n",
    "import numpy as np\n",
    "import matplotlib.pyplot as plt"
   ]
  },
  {
   "cell_type": "markdown",
   "id": "688fb929",
   "metadata": {},
   "source": [
    "### Load Data"
   ]
  },
  {
   "cell_type": "code",
   "execution_count": 2,
   "id": "299d6a7a",
   "metadata": {},
   "outputs": [],
   "source": [
    "cases = pd.read_csv(\"../data/canada/cases/Toronto_COVID19_cases.csv\")\n",
    "wastewater = pd.read_csv(\"../data/canada/covid19-wastewater.csv\")"
   ]
  },
  {
   "cell_type": "code",
   "execution_count": 3,
   "id": "e99b9be2",
   "metadata": {},
   "outputs": [
    {
     "data": {
      "text/html": [
       "<div>\n",
       "<style scoped>\n",
       "    .dataframe tbody tr th:only-of-type {\n",
       "        vertical-align: middle;\n",
       "    }\n",
       "\n",
       "    .dataframe tbody tr th {\n",
       "        vertical-align: top;\n",
       "    }\n",
       "\n",
       "    .dataframe thead th {\n",
       "        text-align: right;\n",
       "    }\n",
       "</style>\n",
       "<table border=\"1\" class=\"dataframe\">\n",
       "  <thead>\n",
       "    <tr style=\"text-align: right;\">\n",
       "      <th></th>\n",
       "      <th>_id</th>\n",
       "      <th>Assigned_ID</th>\n",
       "      <th>Outbreak Associated</th>\n",
       "      <th>Age Group</th>\n",
       "      <th>Neighbourhood Name</th>\n",
       "      <th>FSA</th>\n",
       "      <th>Source of Infection</th>\n",
       "      <th>Classification</th>\n",
       "      <th>Episode Date</th>\n",
       "      <th>Reported Date</th>\n",
       "      <th>Client Gender</th>\n",
       "      <th>Outcome</th>\n",
       "      <th>Ever Hospitalized</th>\n",
       "      <th>Ever in ICU</th>\n",
       "      <th>Ever Intubated</th>\n",
       "    </tr>\n",
       "  </thead>\n",
       "  <tbody>\n",
       "    <tr>\n",
       "      <th>0</th>\n",
       "      <td>1</td>\n",
       "      <td>1</td>\n",
       "      <td>NO</td>\n",
       "      <td>50 to 59 Years</td>\n",
       "      <td>Willowdale East</td>\n",
       "      <td>M2N</td>\n",
       "      <td>Travel</td>\n",
       "      <td>CONFIRMED</td>\n",
       "      <td>2020-01-22</td>\n",
       "      <td>2020-01-23</td>\n",
       "      <td>FEMALE</td>\n",
       "      <td>RESOLVED</td>\n",
       "      <td>No</td>\n",
       "      <td>No</td>\n",
       "      <td>No</td>\n",
       "    </tr>\n",
       "    <tr>\n",
       "      <th>1</th>\n",
       "      <td>2</td>\n",
       "      <td>2</td>\n",
       "      <td>NO</td>\n",
       "      <td>50 to 59 Years</td>\n",
       "      <td>Willowdale East</td>\n",
       "      <td>M2N</td>\n",
       "      <td>Travel</td>\n",
       "      <td>CONFIRMED</td>\n",
       "      <td>2020-01-21</td>\n",
       "      <td>2020-01-23</td>\n",
       "      <td>MALE</td>\n",
       "      <td>RESOLVED</td>\n",
       "      <td>Yes</td>\n",
       "      <td>No</td>\n",
       "      <td>No</td>\n",
       "    </tr>\n",
       "    <tr>\n",
       "      <th>2</th>\n",
       "      <td>3</td>\n",
       "      <td>3</td>\n",
       "      <td>NO</td>\n",
       "      <td>20 to 29 Years</td>\n",
       "      <td>Parkwoods-Donalda</td>\n",
       "      <td>M3A</td>\n",
       "      <td>Travel</td>\n",
       "      <td>CONFIRMED</td>\n",
       "      <td>2020-02-05</td>\n",
       "      <td>2020-02-21</td>\n",
       "      <td>FEMALE</td>\n",
       "      <td>RESOLVED</td>\n",
       "      <td>No</td>\n",
       "      <td>No</td>\n",
       "      <td>No</td>\n",
       "    </tr>\n",
       "    <tr>\n",
       "      <th>3</th>\n",
       "      <td>4</td>\n",
       "      <td>4</td>\n",
       "      <td>NO</td>\n",
       "      <td>60 to 69 Years</td>\n",
       "      <td>Church-Yonge Corridor</td>\n",
       "      <td>M4W</td>\n",
       "      <td>Travel</td>\n",
       "      <td>CONFIRMED</td>\n",
       "      <td>2020-02-16</td>\n",
       "      <td>2020-02-25</td>\n",
       "      <td>FEMALE</td>\n",
       "      <td>RESOLVED</td>\n",
       "      <td>No</td>\n",
       "      <td>No</td>\n",
       "      <td>No</td>\n",
       "    </tr>\n",
       "    <tr>\n",
       "      <th>4</th>\n",
       "      <td>5</td>\n",
       "      <td>5</td>\n",
       "      <td>NO</td>\n",
       "      <td>60 to 69 Years</td>\n",
       "      <td>Church-Yonge Corridor</td>\n",
       "      <td>M4W</td>\n",
       "      <td>Travel</td>\n",
       "      <td>CONFIRMED</td>\n",
       "      <td>2020-02-20</td>\n",
       "      <td>2020-02-26</td>\n",
       "      <td>MALE</td>\n",
       "      <td>RESOLVED</td>\n",
       "      <td>No</td>\n",
       "      <td>No</td>\n",
       "      <td>No</td>\n",
       "    </tr>\n",
       "  </tbody>\n",
       "</table>\n",
       "</div>"
      ],
      "text/plain": [
       "   _id  Assigned_ID Outbreak Associated       Age Group  \\\n",
       "0    1            1                  NO  50 to 59 Years   \n",
       "1    2            2                  NO  50 to 59 Years   \n",
       "2    3            3                  NO  20 to 29 Years   \n",
       "3    4            4                  NO  60 to 69 Years   \n",
       "4    5            5                  NO  60 to 69 Years   \n",
       "\n",
       "      Neighbourhood Name  FSA Source of Infection Classification Episode Date  \\\n",
       "0        Willowdale East  M2N              Travel      CONFIRMED   2020-01-22   \n",
       "1        Willowdale East  M2N              Travel      CONFIRMED   2020-01-21   \n",
       "2      Parkwoods-Donalda  M3A              Travel      CONFIRMED   2020-02-05   \n",
       "3  Church-Yonge Corridor  M4W              Travel      CONFIRMED   2020-02-16   \n",
       "4  Church-Yonge Corridor  M4W              Travel      CONFIRMED   2020-02-20   \n",
       "\n",
       "  Reported Date Client Gender   Outcome Ever Hospitalized Ever in ICU  \\\n",
       "0    2020-01-23        FEMALE  RESOLVED                No          No   \n",
       "1    2020-01-23          MALE  RESOLVED               Yes          No   \n",
       "2    2020-02-21        FEMALE  RESOLVED                No          No   \n",
       "3    2020-02-25        FEMALE  RESOLVED                No          No   \n",
       "4    2020-02-26          MALE  RESOLVED                No          No   \n",
       "\n",
       "  Ever Intubated  \n",
       "0             No  \n",
       "1             No  \n",
       "2             No  \n",
       "3             No  \n",
       "4             No  "
      ]
     },
     "execution_count": 3,
     "metadata": {},
     "output_type": "execute_result"
    }
   ],
   "source": [
    "cases.head()"
   ]
  },
  {
   "cell_type": "markdown",
   "id": "3691642d",
   "metadata": {},
   "source": [
    "## Select relevant column(s): Only Neighbourhood Highland Creek"
   ]
  },
  {
   "cell_type": "code",
   "execution_count": 4,
   "id": "cbf4b54d",
   "metadata": {},
   "outputs": [],
   "source": [
    "episode_cases = cases[cases[\"Neighbourhood Name\"]==\"Highland Creek\"].copy().groupby(\"Episode Date\").count()[[\"_id\"]]\n",
    "reported_cases = cases[cases[\"Neighbourhood Name\"]==\"Highland Creek\"].copy().groupby(\"Reported Date\").count()[[\"_id\"]]"
   ]
  },
  {
   "cell_type": "code",
   "execution_count": 5,
   "id": "c49d7b2c",
   "metadata": {},
   "outputs": [],
   "source": [
    "episode_cases = episode_cases.reset_index().rename({\"Episode Date\": \"date\"}, axis=1)\n",
    "reported_cases = reported_cases.reset_index().rename({\"Reported Date\": \"date\"}, axis=1)"
   ]
  },
  {
   "cell_type": "code",
   "execution_count": 6,
   "id": "1604feab",
   "metadata": {},
   "outputs": [],
   "source": [
    "toronto_cases = pd.merge(episode_cases, reported_cases, on=\"date\", how=\"outer\")"
   ]
  },
  {
   "cell_type": "code",
   "execution_count": 7,
   "id": "7e600a2f",
   "metadata": {},
   "outputs": [],
   "source": [
    "toronto_cases = toronto_cases.rename({'_id_x': \"cases_episode_date\", \n",
    "                                      \"_id_y\": \"cases_reported_date\",\n",
    "                                     \"Episode Date\": \"date\"}, axis=1)"
   ]
  },
  {
   "cell_type": "code",
   "execution_count": 8,
   "id": "fc8a04bf",
   "metadata": {},
   "outputs": [
    {
     "data": {
      "text/html": [
       "<div>\n",
       "<style scoped>\n",
       "    .dataframe tbody tr th:only-of-type {\n",
       "        vertical-align: middle;\n",
       "    }\n",
       "\n",
       "    .dataframe tbody tr th {\n",
       "        vertical-align: top;\n",
       "    }\n",
       "\n",
       "    .dataframe thead th {\n",
       "        text-align: right;\n",
       "    }\n",
       "</style>\n",
       "<table border=\"1\" class=\"dataframe\">\n",
       "  <thead>\n",
       "    <tr style=\"text-align: right;\">\n",
       "      <th></th>\n",
       "      <th>date</th>\n",
       "      <th>cases_episode_date</th>\n",
       "      <th>cases_reported_date</th>\n",
       "    </tr>\n",
       "  </thead>\n",
       "  <tbody>\n",
       "    <tr>\n",
       "      <th>0</th>\n",
       "      <td>2020-03-10</td>\n",
       "      <td>1.0</td>\n",
       "      <td>NaN</td>\n",
       "    </tr>\n",
       "    <tr>\n",
       "      <th>1</th>\n",
       "      <td>2020-03-11</td>\n",
       "      <td>1.0</td>\n",
       "      <td>NaN</td>\n",
       "    </tr>\n",
       "    <tr>\n",
       "      <th>2</th>\n",
       "      <td>2020-03-14</td>\n",
       "      <td>1.0</td>\n",
       "      <td>NaN</td>\n",
       "    </tr>\n",
       "    <tr>\n",
       "      <th>3</th>\n",
       "      <td>2020-03-19</td>\n",
       "      <td>1.0</td>\n",
       "      <td>NaN</td>\n",
       "    </tr>\n",
       "    <tr>\n",
       "      <th>4</th>\n",
       "      <td>2020-03-21</td>\n",
       "      <td>1.0</td>\n",
       "      <td>NaN</td>\n",
       "    </tr>\n",
       "    <tr>\n",
       "      <th>...</th>\n",
       "      <td>...</td>\n",
       "      <td>...</td>\n",
       "      <td>...</td>\n",
       "    </tr>\n",
       "    <tr>\n",
       "      <th>765</th>\n",
       "      <td>2023-05-14</td>\n",
       "      <td>NaN</td>\n",
       "      <td>1.0</td>\n",
       "    </tr>\n",
       "    <tr>\n",
       "      <th>766</th>\n",
       "      <td>2023-05-29</td>\n",
       "      <td>NaN</td>\n",
       "      <td>1.0</td>\n",
       "    </tr>\n",
       "    <tr>\n",
       "      <th>767</th>\n",
       "      <td>2023-06-03</td>\n",
       "      <td>NaN</td>\n",
       "      <td>1.0</td>\n",
       "    </tr>\n",
       "    <tr>\n",
       "      <th>768</th>\n",
       "      <td>2023-06-16</td>\n",
       "      <td>NaN</td>\n",
       "      <td>1.0</td>\n",
       "    </tr>\n",
       "    <tr>\n",
       "      <th>769</th>\n",
       "      <td>2023-06-29</td>\n",
       "      <td>NaN</td>\n",
       "      <td>1.0</td>\n",
       "    </tr>\n",
       "  </tbody>\n",
       "</table>\n",
       "<p>770 rows × 3 columns</p>\n",
       "</div>"
      ],
      "text/plain": [
       "           date  cases_episode_date  cases_reported_date\n",
       "0    2020-03-10                 1.0                  NaN\n",
       "1    2020-03-11                 1.0                  NaN\n",
       "2    2020-03-14                 1.0                  NaN\n",
       "3    2020-03-19                 1.0                  NaN\n",
       "4    2020-03-21                 1.0                  NaN\n",
       "..          ...                 ...                  ...\n",
       "765  2023-05-14                 NaN                  1.0\n",
       "766  2023-05-29                 NaN                  1.0\n",
       "767  2023-06-03                 NaN                  1.0\n",
       "768  2023-06-16                 NaN                  1.0\n",
       "769  2023-06-29                 NaN                  1.0\n",
       "\n",
       "[770 rows x 3 columns]"
      ]
     },
     "execution_count": 8,
     "metadata": {},
     "output_type": "execute_result"
    }
   ],
   "source": [
    "toronto_cases"
   ]
  },
  {
   "cell_type": "markdown",
   "id": "661c0ed2",
   "metadata": {},
   "source": [
    "#### Question: Is it important whether we choose cases_episode_date or cases_reported_date?"
   ]
  },
  {
   "cell_type": "code",
   "execution_count": 9,
   "id": "bdd5983f",
   "metadata": {},
   "outputs": [],
   "source": [
    "toronto_cases[\"date\"] = pd.to_datetime(toronto_cases[\"date\"])"
   ]
  },
  {
   "cell_type": "code",
   "execution_count": 10,
   "id": "eb170e29",
   "metadata": {},
   "outputs": [],
   "source": [
    "toronto_cases.sort_values(\"date\", inplace=True)"
   ]
  },
  {
   "cell_type": "code",
   "execution_count": 11,
   "id": "da28cee2",
   "metadata": {},
   "outputs": [
    {
     "data": {
      "text/plain": [
       "[<matplotlib.lines.Line2D at 0x7f6c4b194f10>]"
      ]
     },
     "execution_count": 11,
     "metadata": {},
     "output_type": "execute_result"
    },
    {
     "data": {
      "image/png": "[encoded data removed]",
      "text/plain": [
       "<Figure size 640x480 with 1 Axes>"
      ]
     },
     "metadata": {},
     "output_type": "display_data"
    }
   ],
   "source": [
    "plt.plot(toronto_cases[\"date\"], toronto_cases[\"cases_reported_date\"], color=\"blue\")\n",
    "plt.plot(toronto_cases[\"date\"], toronto_cases[\"cases_episode_date\"], color=\"red\")"
   ]
  },
  {
   "cell_type": "code",
   "execution_count": 12,
   "id": "b24d1758",
   "metadata": {},
   "outputs": [
    {
     "data": {
      "text/plain": [
       "[<matplotlib.lines.Line2D at 0x7f6c4b034760>]"
      ]
     },
     "execution_count": 12,
     "metadata": {},
     "output_type": "execute_result"
    },
    {
     "data": {
      "image/png": "[encoded data removed]",
      "text/plain": [
       "<Figure size 640x480 with 1 Axes>"
      ]
     },
     "metadata": {},
     "output_type": "display_data"
    }
   ],
   "source": [
    "plt.plot(toronto_cases[\"date\"], toronto_cases[\"cases_episode_date\"], color=\"red\")\n",
    "plt.plot(toronto_cases[\"date\"], toronto_cases[\"cases_reported_date\"], color=\"blue\")"
   ]
  },
  {
   "cell_type": "markdown",
   "id": "d79031e4",
   "metadata": {},
   "source": [
    "Does not really look like it --> use reported date"
   ]
  },
  {
   "cell_type": "markdown",
   "id": "cf25c87c",
   "metadata": {},
   "source": [
    "### caluculate 7-day incidence"
   ]
  },
  {
   "cell_type": "markdown",
   "id": "c74fab26",
   "metadata": {},
   "source": [
    "incidence = cases*100 000 / (population*time) (pro 100 000)"
   ]
  },
  {
   "cell_type": "code",
   "execution_count": 13,
   "id": "43af7d43",
   "metadata": {},
   "outputs": [],
   "source": [
    "pop = 13000 # https://www.toronto.ca/ext/sdfa/Neighbourhood%20Profiles/pdf/2016/pdf1/cpa134.pdf"
   ]
  },
  {
   "cell_type": "code",
   "execution_count": 14,
   "id": "4e159420",
   "metadata": {},
   "outputs": [
    {
     "data": {
      "text/html": [
       "<div>\n",
       "<style scoped>\n",
       "    .dataframe tbody tr th:only-of-type {\n",
       "        vertical-align: middle;\n",
       "    }\n",
       "\n",
       "    .dataframe tbody tr th {\n",
       "        vertical-align: top;\n",
       "    }\n",
       "\n",
       "    .dataframe thead th {\n",
       "        text-align: right;\n",
       "    }\n",
       "</style>\n",
       "<table border=\"1\" class=\"dataframe\">\n",
       "  <thead>\n",
       "    <tr style=\"text-align: right;\">\n",
       "      <th></th>\n",
       "      <th>date</th>\n",
       "      <th>cases_episode_date</th>\n",
       "      <th>cases_reported_date</th>\n",
       "    </tr>\n",
       "  </thead>\n",
       "  <tbody>\n",
       "    <tr>\n",
       "      <th>0</th>\n",
       "      <td>2020-03-10</td>\n",
       "      <td>1.0</td>\n",
       "      <td>NaN</td>\n",
       "    </tr>\n",
       "    <tr>\n",
       "      <th>1</th>\n",
       "      <td>2020-03-11</td>\n",
       "      <td>1.0</td>\n",
       "      <td>NaN</td>\n",
       "    </tr>\n",
       "    <tr>\n",
       "      <th>2</th>\n",
       "      <td>2020-03-14</td>\n",
       "      <td>1.0</td>\n",
       "      <td>NaN</td>\n",
       "    </tr>\n",
       "    <tr>\n",
       "      <th>607</th>\n",
       "      <td>2020-03-18</td>\n",
       "      <td>NaN</td>\n",
       "      <td>1.0</td>\n",
       "    </tr>\n",
       "    <tr>\n",
       "      <th>3</th>\n",
       "      <td>2020-03-19</td>\n",
       "      <td>1.0</td>\n",
       "      <td>NaN</td>\n",
       "    </tr>\n",
       "  </tbody>\n",
       "</table>\n",
       "</div>"
      ],
      "text/plain": [
       "          date  cases_episode_date  cases_reported_date\n",
       "0   2020-03-10                 1.0                  NaN\n",
       "1   2020-03-11                 1.0                  NaN\n",
       "2   2020-03-14                 1.0                  NaN\n",
       "607 2020-03-18                 NaN                  1.0\n",
       "3   2020-03-19                 1.0                  NaN"
      ]
     },
     "execution_count": 14,
     "metadata": {},
     "output_type": "execute_result"
    }
   ],
   "source": [
    "toronto_cases.head()"
   ]
  },
  {
   "cell_type": "code",
   "execution_count": 15,
   "id": "82cb6fe4",
   "metadata": {},
   "outputs": [],
   "source": [
    "toronto_cases = toronto_cases.set_index(\"date\").resample('D').mean()"
   ]
  },
  {
   "cell_type": "code",
   "execution_count": 16,
   "id": "9f9eb1dd",
   "metadata": {},
   "outputs": [],
   "source": [
    "toronto_cases[\"incidence_7d\"] = toronto_cases[\"cases_reported_date\"].fillna(0).rolling(7, center=False, min_periods=1).mean()/pop*100000"
   ]
  },
  {
   "cell_type": "code",
   "execution_count": 17,
   "id": "c8000933",
   "metadata": {},
   "outputs": [],
   "source": [
    "toronto_cases = toronto_cases[[\"cases_reported_date\", \"incidence_7d\"]]"
   ]
  },
  {
   "cell_type": "code",
   "execution_count": 18,
   "id": "eb020cde",
   "metadata": {},
   "outputs": [
    {
     "data": {
      "text/plain": [
       "count    1228.000000\n",
       "mean       12.260622\n",
       "std        21.048636\n",
       "min         0.000000\n",
       "25%         1.098901\n",
       "50%         4.395604\n",
       "75%        13.186813\n",
       "max       183.516484\n",
       "Name: incidence_7d, dtype: float64"
      ]
     },
     "execution_count": 18,
     "metadata": {},
     "output_type": "execute_result"
    }
   ],
   "source": [
    "toronto_cases[\"incidence_7d\"].describe()"
   ]
  },
  {
   "cell_type": "markdown",
   "id": "3a84bd3a",
   "metadata": {},
   "source": [
    "## Select relevant wastewater data"
   ]
  },
  {
   "cell_type": "code",
   "execution_count": 28,
   "id": "8071eb6e",
   "metadata": {},
   "outputs": [],
   "source": [
    "loc = \"Toronto Highland Creek\""
   ]
  },
  {
   "cell_type": "code",
   "execution_count": 29,
   "id": "83d10d00",
   "metadata": {},
   "outputs": [
    {
     "data": {
      "text/plain": [
       "array(['Toronto Ashbridges Bay', 'Toronto Highland Creek',\n",
       "       'Toronto Humber', 'Toronto North Toronto'], dtype=object)"
      ]
     },
     "execution_count": 29,
     "metadata": {},
     "output_type": "execute_result"
    }
   ],
   "source": [
    "wastewater[wastewater[\"region\"]==\"Toronto\"][\"Location\"].unique()"
   ]
  },
  {
   "cell_type": "code",
   "execution_count": 30,
   "id": "063ae3bb",
   "metadata": {},
   "outputs": [],
   "source": [
    "wastewater_toronto = wastewater.loc[wastewater[\"Location\"]== loc, [\"Date\", \"viral_load\", \"seven_day_rolling_avg\"]]"
   ]
  },
  {
   "cell_type": "code",
   "execution_count": 31,
   "id": "d4df521b",
   "metadata": {},
   "outputs": [],
   "source": [
    "wastewater_toronto = wastewater_toronto.rename({\"Date\": \"date\", \"seven_day_rolling_avg\": \"conc_7d_ravg\"}, axis=1)"
   ]
  },
  {
   "cell_type": "code",
   "execution_count": 32,
   "id": "5e7cc0a3",
   "metadata": {},
   "outputs": [],
   "source": [
    "# norm w.r.t population\n",
    "wastewater_toronto = wastewater_toronto.set_index(\"date\")/pop*1000"
   ]
  },
  {
   "cell_type": "code",
   "execution_count": 33,
   "id": "734558b4",
   "metadata": {},
   "outputs": [
    {
     "data": {
      "text/html": [
       "<div>\n",
       "<style scoped>\n",
       "    .dataframe tbody tr th:only-of-type {\n",
       "        vertical-align: middle;\n",
       "    }\n",
       "\n",
       "    .dataframe tbody tr th {\n",
       "        vertical-align: top;\n",
       "    }\n",
       "\n",
       "    .dataframe thead th {\n",
       "        text-align: right;\n",
       "    }\n",
       "</style>\n",
       "<table border=\"1\" class=\"dataframe\">\n",
       "  <thead>\n",
       "    <tr style=\"text-align: right;\">\n",
       "      <th></th>\n",
       "      <th>viral_load</th>\n",
       "      <th>conc_7d_ravg</th>\n",
       "    </tr>\n",
       "  </thead>\n",
       "  <tbody>\n",
       "    <tr>\n",
       "      <th>count</th>\n",
       "      <td>243.000000</td>\n",
       "      <td>243.000000</td>\n",
       "    </tr>\n",
       "    <tr>\n",
       "      <th>mean</th>\n",
       "      <td>6.847933</td>\n",
       "      <td>6.804870</td>\n",
       "    </tr>\n",
       "    <tr>\n",
       "      <th>std</th>\n",
       "      <td>11.164711</td>\n",
       "      <td>9.731579</td>\n",
       "    </tr>\n",
       "    <tr>\n",
       "      <th>min</th>\n",
       "      <td>0.140704</td>\n",
       "      <td>0.212875</td>\n",
       "    </tr>\n",
       "    <tr>\n",
       "      <th>25%</th>\n",
       "      <td>1.405290</td>\n",
       "      <td>1.610108</td>\n",
       "    </tr>\n",
       "    <tr>\n",
       "      <th>50%</th>\n",
       "      <td>3.216675</td>\n",
       "      <td>3.605756</td>\n",
       "    </tr>\n",
       "    <tr>\n",
       "      <th>75%</th>\n",
       "      <td>8.288832</td>\n",
       "      <td>8.385087</td>\n",
       "    </tr>\n",
       "    <tr>\n",
       "      <th>max</th>\n",
       "      <td>124.837349</td>\n",
       "      <td>80.754821</td>\n",
       "    </tr>\n",
       "  </tbody>\n",
       "</table>\n",
       "</div>"
      ],
      "text/plain": [
       "       viral_load  conc_7d_ravg\n",
       "count  243.000000    243.000000\n",
       "mean     6.847933      6.804870\n",
       "std     11.164711      9.731579\n",
       "min      0.140704      0.212875\n",
       "25%      1.405290      1.610108\n",
       "50%      3.216675      3.605756\n",
       "75%      8.288832      8.385087\n",
       "max    124.837349     80.754821"
      ]
     },
     "execution_count": 33,
     "metadata": {},
     "output_type": "execute_result"
    }
   ],
   "source": [
    "wastewater_toronto.describe()"
   ]
  },
  {
   "cell_type": "markdown",
   "id": "1df9056d",
   "metadata": {},
   "source": [
    "## Merge"
   ]
  },
  {
   "cell_type": "code",
   "execution_count": 34,
   "id": "c0df520b",
   "metadata": {},
   "outputs": [],
   "source": [
    "wastewater_toronto.reset_index(inplace=True)\n",
    "wastewater_toronto[\"date\"] = pd.to_datetime(wastewater_toronto[\"date\"])"
   ]
  },
  {
   "cell_type": "code",
   "execution_count": 35,
   "id": "3d4c57f7",
   "metadata": {},
   "outputs": [],
   "source": [
    "df_res = pd.merge(wastewater_toronto, toronto_cases.reset_index(), on=\"date\")"
   ]
  },
  {
   "cell_type": "code",
   "execution_count": 36,
   "id": "55586deb",
   "metadata": {},
   "outputs": [],
   "source": [
    "df_res = df_res.fillna(0)"
   ]
  },
  {
   "cell_type": "code",
   "execution_count": 37,
   "id": "7ee6c2da",
   "metadata": {},
   "outputs": [],
   "source": [
    "df_res[\"city\"] = \"Toronto\"\n",
    "df_res[\"district\"] = \"Highland_Creek\""
   ]
  },
  {
   "cell_type": "code",
   "execution_count": 38,
   "id": "715d4754",
   "metadata": {},
   "outputs": [],
   "source": [
    "df_res.to_csv(\"../data/preprocessed/canada.csv\", index=False)"
   ]
  },
  {
   "cell_type": "code",
   "execution_count": null,
   "id": "ba5db523",
   "metadata": {},
   "outputs": [],
   "source": []
  },
  {
   "cell_type": "code",
   "execution_count": 39,
   "id": "b8838239",
   "metadata": {},
   "outputs": [],
   "source": [
    "import seaborn as sns"
   ]
  },
  {
   "cell_type": "code",
   "execution_count": 40,
   "id": "e039e003",
   "metadata": {},
   "outputs": [],
   "source": [
    "dfm = df_res.melt('date', var_name='variable', value_name='vals')"
   ]
  },
  {
   "cell_type": "code",
   "execution_count": 41,
   "id": "75f435f6",
   "metadata": {},
   "outputs": [],
   "source": [
    "df_plot = dfm[dfm[\"variable\"].isin(['conc_7d_ravg', 'incidence_7d'])]"
   ]
  },
  {
   "cell_type": "code",
   "execution_count": 42,
   "id": "0a889ddc",
   "metadata": {},
   "outputs": [
    {
     "data": {
      "image/png": "[encoded data removed]",
      "text/plain": [
       "<Figure size 640x480 with 1 Axes>"
      ]
     },
     "metadata": {},
     "output_type": "display_data"
    }
   ],
   "source": [
    "sns.lineplot(df_plot, x='date', y='vals', hue=\"variable\")\n",
    "plt.xticks(rotation=45)\n",
    "plt.show()"
   ]
  },
  {
   "cell_type": "code",
   "execution_count": null,
   "id": "e5a4bf5b",
   "metadata": {},
   "outputs": [],
   "source": []
  }
 ],
 "metadata": {
  "kernelspec": {
   "display_name": "Python 3 (ipykernel)",
   "language": "python",
   "name": "python3"
  },
  "language_info": {
   "codemirror_mode": {
    "name": "ipython",
    "version": 3
   },
   "file_extension": ".py",
   "mimetype": "text/x-python",
   "name": "python",
   "nbconvert_exporter": "python",
   "pygments_lexer": "ipython3",
   "version": "3.9.12"
  }
 },
 "nbformat": 4,
 "nbformat_minor": 5
}
